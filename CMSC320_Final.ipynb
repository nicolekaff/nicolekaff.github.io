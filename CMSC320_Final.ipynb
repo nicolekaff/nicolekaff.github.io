{
 "cells": [
  {
   "cell_type": "markdown",
   "metadata": {},
   "source": [
    "![](starrynight.jpg)"
   ]
  },
  {
   "cell_type": "markdown",
   "metadata": {},
   "source": [
    "# Analysis of Gender Diversity at the Museum of Modern Art\n",
    "**By Nicole Kaff**"
   ]
  },
  {
   "cell_type": "markdown",
   "metadata": {},
   "source": [
    "## Introduction\n",
    "The Museum of Modern Art, often referred to as the MoMA, was founded in 1929 and was the first museum to be dedicated exclusively to the display of works by modern artists. Today, the MoMA is located in midtown Manhattan and remains the nation's preeminent institution for the curation of both modern and contemporary art. Modern art refers to works created between 1880 and 1960, while contemporary art refers to works made after that. The MoMA welcomes millions of visitors every year to view their collection which includes, most notably, Vincent van Gogh's _The Starry Night_,  Salvador Dalí's _The Persistence of Memory_, as well as works by Andy Warhol, Pablo Picasso, Claude Monet, Henri Matisse, and Piet Mondrian. More information on the MoMA and their collection can be found on the [MoMA's Website](https://www.moma.org/about/who-we-are/moma-history) and on [Google Arts & Culture](https://artsandculture.google.com/partner/moma-the-museum-of-modern-art). \n",
    "\n",
    "When people are asked to name the \"greatest\" artists of all time, common contenders often include Da Vinci, Michelangelo, Picasso, and Van Gogh. Rarely, if ever, are female artists brought into the mix. This is no coincidence, as the art world has been overwhelmingly dominated by male artists throughout history. In her famous 1971 essay, [_Why Have There Been No Great Women Artists?_](https://www.writing.upenn.edu/library/Nochlin-Linda_Why-Have-There-Been-No-Great-Women-Artists.pdf), Linda Nochlin addresses this phenomenon, explaining that this is not due to a lack of talent or potential in female artists but rather the institutional barriers that have historically made the professional art world inaccessible for them. Women were often denied membership to official arts institutions and did not have the opportunity to receive the same training and exhibition space as their male contemporaries. Female participation in the arts has improved significantly over the past century, with the [National Museum of Women in the Arts](https://nmwa.org/support/advocacy/get-facts/) reporting that nearly half of all working artists today are female. At the same time, a great deal of public pressure has been put on museums to diversify their collections by acquiring more works by these female artists, and in recent decades many museums have responded by claiming that they are taking their responsibility for diversity more seriously. However, another study reported by the National Museum of Women in the Arts in 2018 found that across 18 major art museums in the United States, the collections were still 87% male and 85% white. So are the museums actually living up to their commitment to diversify? Has the acquisition of works by female artists truly been increasing? Only analysis of the data can tell us that. \n",
    "\n",
    "In this tutorial we will examine the Museum of Modern Art in the context of these questions. The MoMA is the ideal candidate for this kind of analysis because it sources its pieces from this time frame of increasing female participation in the arts and therefore has the opportunity to acquire more works by female artists. (Whereas a museum focusing on classical art would have far less work by female artists available to them in the first place.) In the process of this analysis we will cover the fundamental components of the data science lifecycle beginning with data collection and continuing through data cleaning, exploratory data analysis, machine learning, hypothesis testing, and gathering insights. "
   ]
  },
  {
   "cell_type": "markdown",
   "metadata": {},
   "source": [
    "## Getting Started\n",
    "The data set that we will be using for this tutorial comes from the Museum of Modern Art's collection respository on Github, which can be found [here](https://github.com/MuseumofModernArt/collection). The data files in this repository are updated monthly to reflect recent changes in the museum's collection. From this repository, we will be using the file **Artworks.csv**, which can be downloaded [here](https://media.githubusercontent.com/media/MuseumofModernArt/collection/master/Artworks.csv) by either typing **ctrl+s** OR by **right clicking and selecting \"Save as\"**. \n",
    "\n",
    "For this tutorial, we will be using the [pandas](https://pandas.pydata.org/docs/user_guide/index.html#user-guide), [numpy](https://numpy.org/doc/stable/), [regex](https://docs.python.org/3/library/re.html), [seaborn](https://seaborn.pydata.org/#), [matplotlib](https://matplotlib.org/), and [statsmodels](https://www.statsmodels.org/stable/index.html) python libraries. These libraries are imported below:"
   ]
  },
  {
   "cell_type": "code",
   "execution_count": 1,
   "metadata": {},
   "outputs": [],
   "source": [
    "# Import required libraries\n",
    "import pandas as pd\n",
    "import numpy as np\n",
    "import re\n",
    "import seaborn as sns\n",
    "import matplotlib.pyplot as plt\n",
    "import statsmodels.formula.api as smf\n",
    "from statsmodels.graphics.regressionplots import abline_plot"
   ]
  },
  {
   "cell_type": "markdown",
   "metadata": {},
   "source": [
    "## Loading the Data\n",
    "The first step is to load our **Artworks.csv** file into a data frame. A csv file contains lines of comma separated values.  The pandas library has a function called **read_csv** that reads in a csv file and converts it to a data frame for us. Each line in the file will become a row in the data frame and each comma separated value on that line will correspond to a value in a column. **Artworks.csv** contains 138185 rows, each representing a different work and 29 columns, each representing a particular attribute of the work.\n",
    "\n",
    "We will also set the display options to show all 29 fields in the dataframe with the **set_option** function from the pandas library."
   ]
  },
  {
   "cell_type": "code",
   "execution_count": 2,
   "metadata": {},
   "outputs": [
    {
     "data": {
      "text/html": [
       "<div>\n",
       "<style scoped>\n",
       "    .dataframe tbody tr th:only-of-type {\n",
       "        vertical-align: middle;\n",
       "    }\n",
       "\n",
       "    .dataframe tbody tr th {\n",
       "        vertical-align: top;\n",
       "    }\n",
       "\n",
       "    .dataframe thead th {\n",
       "        text-align: right;\n",
       "    }\n",
       "</style>\n",
       "<table border=\"1\" class=\"dataframe\">\n",
       "  <thead>\n",
       "    <tr style=\"text-align: right;\">\n",
       "      <th></th>\n",
       "      <th>Title</th>\n",
       "      <th>Artist</th>\n",
       "      <th>ConstituentID</th>\n",
       "      <th>ArtistBio</th>\n",
       "      <th>Nationality</th>\n",
       "      <th>BeginDate</th>\n",
       "      <th>EndDate</th>\n",
       "      <th>Gender</th>\n",
       "      <th>Date</th>\n",
       "      <th>Medium</th>\n",
       "      <th>Dimensions</th>\n",
       "      <th>CreditLine</th>\n",
       "      <th>AccessionNumber</th>\n",
       "      <th>Classification</th>\n",
       "      <th>Department</th>\n",
       "      <th>DateAcquired</th>\n",
       "      <th>Cataloged</th>\n",
       "      <th>ObjectID</th>\n",
       "      <th>URL</th>\n",
       "      <th>ThumbnailURL</th>\n",
       "      <th>Circumference (cm)</th>\n",
       "      <th>Depth (cm)</th>\n",
       "      <th>Diameter (cm)</th>\n",
       "      <th>Height (cm)</th>\n",
       "      <th>Length (cm)</th>\n",
       "      <th>Weight (kg)</th>\n",
       "      <th>Width (cm)</th>\n",
       "      <th>Seat Height (cm)</th>\n",
       "      <th>Duration (sec.)</th>\n",
       "    </tr>\n",
       "  </thead>\n",
       "  <tbody>\n",
       "    <tr>\n",
       "      <th>0</th>\n",
       "      <td>Ferdinandsbrücke Project, Vienna, Austria (Ele...</td>\n",
       "      <td>Otto Wagner</td>\n",
       "      <td>6210</td>\n",
       "      <td>(Austrian, 1841–1918)</td>\n",
       "      <td>(Austrian)</td>\n",
       "      <td>(1841)</td>\n",
       "      <td>(1918)</td>\n",
       "      <td>(Male)</td>\n",
       "      <td>1896</td>\n",
       "      <td>Ink and cut-and-pasted painted pages on paper</td>\n",
       "      <td>19 1/8 x 66 1/2\" (48.6 x 168.9 cm)</td>\n",
       "      <td>Fractional and promised gift of Jo Carole and ...</td>\n",
       "      <td>885.1996</td>\n",
       "      <td>Architecture</td>\n",
       "      <td>Architecture &amp; Design</td>\n",
       "      <td>1996-04-09</td>\n",
       "      <td>Y</td>\n",
       "      <td>2</td>\n",
       "      <td>http://www.moma.org/collection/works/2</td>\n",
       "      <td>http://www.moma.org/media/W1siZiIsIjU5NDA1Il0s...</td>\n",
       "      <td>NaN</td>\n",
       "      <td>NaN</td>\n",
       "      <td>NaN</td>\n",
       "      <td>48.600000</td>\n",
       "      <td>NaN</td>\n",
       "      <td>NaN</td>\n",
       "      <td>168.900000</td>\n",
       "      <td>NaN</td>\n",
       "      <td>NaN</td>\n",
       "    </tr>\n",
       "    <tr>\n",
       "      <th>1</th>\n",
       "      <td>City of Music, National Superior Conservatory ...</td>\n",
       "      <td>Christian de Portzamparc</td>\n",
       "      <td>7470</td>\n",
       "      <td>(French, born 1944)</td>\n",
       "      <td>(French)</td>\n",
       "      <td>(1944)</td>\n",
       "      <td>(0)</td>\n",
       "      <td>(Male)</td>\n",
       "      <td>1987</td>\n",
       "      <td>Paint and colored pencil on print</td>\n",
       "      <td>16 x 11 3/4\" (40.6 x 29.8 cm)</td>\n",
       "      <td>Gift of the architect in honor of Lily Auchinc...</td>\n",
       "      <td>1.1995</td>\n",
       "      <td>Architecture</td>\n",
       "      <td>Architecture &amp; Design</td>\n",
       "      <td>1995-01-17</td>\n",
       "      <td>Y</td>\n",
       "      <td>3</td>\n",
       "      <td>http://www.moma.org/collection/works/3</td>\n",
       "      <td>http://www.moma.org/media/W1siZiIsIjk3Il0sWyJw...</td>\n",
       "      <td>NaN</td>\n",
       "      <td>NaN</td>\n",
       "      <td>NaN</td>\n",
       "      <td>40.640100</td>\n",
       "      <td>NaN</td>\n",
       "      <td>NaN</td>\n",
       "      <td>29.845100</td>\n",
       "      <td>NaN</td>\n",
       "      <td>NaN</td>\n",
       "    </tr>\n",
       "    <tr>\n",
       "      <th>2</th>\n",
       "      <td>Villa near Vienna Project, Outside Vienna, Aus...</td>\n",
       "      <td>Emil Hoppe</td>\n",
       "      <td>7605</td>\n",
       "      <td>(Austrian, 1876–1957)</td>\n",
       "      <td>(Austrian)</td>\n",
       "      <td>(1876)</td>\n",
       "      <td>(1957)</td>\n",
       "      <td>(Male)</td>\n",
       "      <td>1903</td>\n",
       "      <td>Graphite, pen, color pencil, ink, and gouache ...</td>\n",
       "      <td>13 1/2 x 12 1/2\" (34.3 x 31.8 cm)</td>\n",
       "      <td>Gift of Jo Carole and Ronald S. Lauder</td>\n",
       "      <td>1.1997</td>\n",
       "      <td>Architecture</td>\n",
       "      <td>Architecture &amp; Design</td>\n",
       "      <td>1997-01-15</td>\n",
       "      <td>Y</td>\n",
       "      <td>4</td>\n",
       "      <td>http://www.moma.org/collection/works/4</td>\n",
       "      <td>http://www.moma.org/media/W1siZiIsIjk4Il0sWyJw...</td>\n",
       "      <td>NaN</td>\n",
       "      <td>NaN</td>\n",
       "      <td>NaN</td>\n",
       "      <td>34.300000</td>\n",
       "      <td>NaN</td>\n",
       "      <td>NaN</td>\n",
       "      <td>31.800000</td>\n",
       "      <td>NaN</td>\n",
       "      <td>NaN</td>\n",
       "    </tr>\n",
       "    <tr>\n",
       "      <th>3</th>\n",
       "      <td>The Manhattan Transcripts Project, New York, N...</td>\n",
       "      <td>Bernard Tschumi</td>\n",
       "      <td>7056</td>\n",
       "      <td>(French and Swiss, born Switzerland 1944)</td>\n",
       "      <td>()</td>\n",
       "      <td>(1944)</td>\n",
       "      <td>(0)</td>\n",
       "      <td>(Male)</td>\n",
       "      <td>1980</td>\n",
       "      <td>Photographic reproduction with colored synthet...</td>\n",
       "      <td>20 x 20\" (50.8 x 50.8 cm)</td>\n",
       "      <td>Purchase and partial gift of the architect in ...</td>\n",
       "      <td>2.1995</td>\n",
       "      <td>Architecture</td>\n",
       "      <td>Architecture &amp; Design</td>\n",
       "      <td>1995-01-17</td>\n",
       "      <td>Y</td>\n",
       "      <td>5</td>\n",
       "      <td>http://www.moma.org/collection/works/5</td>\n",
       "      <td>http://www.moma.org/media/W1siZiIsIjEyNCJdLFsi...</td>\n",
       "      <td>NaN</td>\n",
       "      <td>NaN</td>\n",
       "      <td>NaN</td>\n",
       "      <td>50.800000</td>\n",
       "      <td>NaN</td>\n",
       "      <td>NaN</td>\n",
       "      <td>50.800000</td>\n",
       "      <td>NaN</td>\n",
       "      <td>NaN</td>\n",
       "    </tr>\n",
       "    <tr>\n",
       "      <th>4</th>\n",
       "      <td>Villa, project, outside Vienna, Austria, Exter...</td>\n",
       "      <td>Emil Hoppe</td>\n",
       "      <td>7605</td>\n",
       "      <td>(Austrian, 1876–1957)</td>\n",
       "      <td>(Austrian)</td>\n",
       "      <td>(1876)</td>\n",
       "      <td>(1957)</td>\n",
       "      <td>(Male)</td>\n",
       "      <td>1903</td>\n",
       "      <td>Graphite, color pencil, ink, and gouache on tr...</td>\n",
       "      <td>15 1/8 x 7 1/2\" (38.4 x 19.1 cm)</td>\n",
       "      <td>Gift of Jo Carole and Ronald S. Lauder</td>\n",
       "      <td>2.1997</td>\n",
       "      <td>Architecture</td>\n",
       "      <td>Architecture &amp; Design</td>\n",
       "      <td>1997-01-15</td>\n",
       "      <td>Y</td>\n",
       "      <td>6</td>\n",
       "      <td>http://www.moma.org/collection/works/6</td>\n",
       "      <td>http://www.moma.org/media/W1siZiIsIjEyNiJdLFsi...</td>\n",
       "      <td>NaN</td>\n",
       "      <td>NaN</td>\n",
       "      <td>NaN</td>\n",
       "      <td>38.400000</td>\n",
       "      <td>NaN</td>\n",
       "      <td>NaN</td>\n",
       "      <td>19.100000</td>\n",
       "      <td>NaN</td>\n",
       "      <td>NaN</td>\n",
       "    </tr>\n",
       "    <tr>\n",
       "      <th>...</th>\n",
       "      <td>...</td>\n",
       "      <td>...</td>\n",
       "      <td>...</td>\n",
       "      <td>...</td>\n",
       "      <td>...</td>\n",
       "      <td>...</td>\n",
       "      <td>...</td>\n",
       "      <td>...</td>\n",
       "      <td>...</td>\n",
       "      <td>...</td>\n",
       "      <td>...</td>\n",
       "      <td>...</td>\n",
       "      <td>...</td>\n",
       "      <td>...</td>\n",
       "      <td>...</td>\n",
       "      <td>...</td>\n",
       "      <td>...</td>\n",
       "      <td>...</td>\n",
       "      <td>...</td>\n",
       "      <td>...</td>\n",
       "      <td>...</td>\n",
       "      <td>...</td>\n",
       "      <td>...</td>\n",
       "      <td>...</td>\n",
       "      <td>...</td>\n",
       "      <td>...</td>\n",
       "      <td>...</td>\n",
       "      <td>...</td>\n",
       "      <td>...</td>\n",
       "    </tr>\n",
       "    <tr>\n",
       "      <th>138180</th>\n",
       "      <td>Maison Modern-Style (Figueras) (plate, page 69...</td>\n",
       "      <td>Salvador Dalí</td>\n",
       "      <td>1364</td>\n",
       "      <td>(Spanish, 1904–1989)</td>\n",
       "      <td>(Spanish)</td>\n",
       "      <td>(1904)</td>\n",
       "      <td>(1989)</td>\n",
       "      <td>(Male)</td>\n",
       "      <td>1930</td>\n",
       "      <td>Photogravure from an illustrated book with eig...</td>\n",
       "      <td>plate: 7 3/16 × 5\" (18.3 × 12.7 cm); page (eac...</td>\n",
       "      <td>Gift of Walter Chrysler</td>\n",
       "      <td>544.1997.8</td>\n",
       "      <td>Illustrated Book</td>\n",
       "      <td>Drawings &amp; Prints</td>\n",
       "      <td>1997-11-11</td>\n",
       "      <td>Y</td>\n",
       "      <td>417611</td>\n",
       "      <td>http://www.moma.org/collection/works/417611</td>\n",
       "      <td>NaN</td>\n",
       "      <td>NaN</td>\n",
       "      <td>NaN</td>\n",
       "      <td>NaN</td>\n",
       "      <td>18.300000</td>\n",
       "      <td>NaN</td>\n",
       "      <td>NaN</td>\n",
       "      <td>12.700000</td>\n",
       "      <td>NaN</td>\n",
       "      <td>NaN</td>\n",
       "    </tr>\n",
       "    <tr>\n",
       "      <th>138181</th>\n",
       "      <td>Cullinan Wing Addition, The Museum of Fine Art...</td>\n",
       "      <td>Ludwig Mies van der Rohe</td>\n",
       "      <td>7166</td>\n",
       "      <td>(American, born Germany. 1886–1969)</td>\n",
       "      <td>(American)</td>\n",
       "      <td>(1886)</td>\n",
       "      <td>(1969)</td>\n",
       "      <td>(Male)</td>\n",
       "      <td>1954</td>\n",
       "      <td>Ink on paper</td>\n",
       "      <td>5 x 8\" (12.7 x 20.3 cm)</td>\n",
       "      <td>Mies van der Rohe Archive, gift of the architect</td>\n",
       "      <td>MR5405B.7</td>\n",
       "      <td>Mies van der Rohe Archive</td>\n",
       "      <td>Architecture &amp; Design</td>\n",
       "      <td>NaN</td>\n",
       "      <td>N</td>\n",
       "      <td>417760</td>\n",
       "      <td>NaN</td>\n",
       "      <td>NaN</td>\n",
       "      <td>NaN</td>\n",
       "      <td>NaN</td>\n",
       "      <td>NaN</td>\n",
       "      <td>12.700025</td>\n",
       "      <td>NaN</td>\n",
       "      <td>NaN</td>\n",
       "      <td>20.320041</td>\n",
       "      <td>NaN</td>\n",
       "      <td>NaN</td>\n",
       "    </tr>\n",
       "    <tr>\n",
       "      <th>138182</th>\n",
       "      <td>Cullinan Wing Addition, The Museum of Fine Art...</td>\n",
       "      <td>Ludwig Mies van der Rohe</td>\n",
       "      <td>7166</td>\n",
       "      <td>(American, born Germany. 1886–1969)</td>\n",
       "      <td>(American)</td>\n",
       "      <td>(1886)</td>\n",
       "      <td>(1969)</td>\n",
       "      <td>(Male)</td>\n",
       "      <td>1954</td>\n",
       "      <td>Ink on paper</td>\n",
       "      <td>5 x 8\" (12.7 x 20.3 cm)</td>\n",
       "      <td>Mies van der Rohe Archive, gift of the architect</td>\n",
       "      <td>MR5405B.8</td>\n",
       "      <td>Mies van der Rohe Archive</td>\n",
       "      <td>Architecture &amp; Design</td>\n",
       "      <td>NaN</td>\n",
       "      <td>N</td>\n",
       "      <td>417761</td>\n",
       "      <td>NaN</td>\n",
       "      <td>NaN</td>\n",
       "      <td>NaN</td>\n",
       "      <td>NaN</td>\n",
       "      <td>NaN</td>\n",
       "      <td>12.700025</td>\n",
       "      <td>NaN</td>\n",
       "      <td>NaN</td>\n",
       "      <td>20.320041</td>\n",
       "      <td>NaN</td>\n",
       "      <td>NaN</td>\n",
       "    </tr>\n",
       "    <tr>\n",
       "      <th>138183</th>\n",
       "      <td>Title page (folio 2) from Mörder, Hoffnung der...</td>\n",
       "      <td>Oskar Kokoschka</td>\n",
       "      <td>3197</td>\n",
       "      <td>(Austrian, 1886–1980)</td>\n",
       "      <td>(Austrian)</td>\n",
       "      <td>(1886)</td>\n",
       "      <td>(1980)</td>\n",
       "      <td>(Male)</td>\n",
       "      <td>1916 (original executed in 1910)</td>\n",
       "      <td>Line block reproduction from an illustrated bo...</td>\n",
       "      <td>composition (irreg.): 4 1/8 × 3 1/8\" (10.5 × 8...</td>\n",
       "      <td>The Louis E. Stern Collection</td>\n",
       "      <td>862.1964.1</td>\n",
       "      <td>Illustrated Book</td>\n",
       "      <td>Drawings &amp; Prints</td>\n",
       "      <td>1949-09-29</td>\n",
       "      <td>Y</td>\n",
       "      <td>418508</td>\n",
       "      <td>http://www.moma.org/collection/works/418508</td>\n",
       "      <td>http://www.moma.org/media/W1siZiIsIjEyNjMwNiJd...</td>\n",
       "      <td>NaN</td>\n",
       "      <td>NaN</td>\n",
       "      <td>NaN</td>\n",
       "      <td>10.500000</td>\n",
       "      <td>NaN</td>\n",
       "      <td>NaN</td>\n",
       "      <td>8.000000</td>\n",
       "      <td>NaN</td>\n",
       "      <td>NaN</td>\n",
       "    </tr>\n",
       "    <tr>\n",
       "      <th>138184</th>\n",
       "      <td>Title page (folio 2) from Mörder, Hoffnung der...</td>\n",
       "      <td>Oskar Kokoschka</td>\n",
       "      <td>3197</td>\n",
       "      <td>(Austrian, 1886–1980)</td>\n",
       "      <td>(Austrian)</td>\n",
       "      <td>(1886)</td>\n",
       "      <td>(1980)</td>\n",
       "      <td>(Male)</td>\n",
       "      <td>1916 (original executed in 1910)</td>\n",
       "      <td>Line block reproduction from an illustrated bo...</td>\n",
       "      <td>composition (irreg.): 4 1/8 × 3 1/8\" (10.5 × 8...</td>\n",
       "      <td>Transferred from the Museum Library</td>\n",
       "      <td>580.1949.1</td>\n",
       "      <td>Illustrated Book</td>\n",
       "      <td>Drawings &amp; Prints</td>\n",
       "      <td>1949-09-29</td>\n",
       "      <td>Y</td>\n",
       "      <td>418509</td>\n",
       "      <td>http://www.moma.org/collection/works/418509</td>\n",
       "      <td>http://www.moma.org/media/W1siZiIsIjEyNjQ0NiJd...</td>\n",
       "      <td>NaN</td>\n",
       "      <td>NaN</td>\n",
       "      <td>NaN</td>\n",
       "      <td>10.500000</td>\n",
       "      <td>NaN</td>\n",
       "      <td>NaN</td>\n",
       "      <td>8.000000</td>\n",
       "      <td>NaN</td>\n",
       "      <td>NaN</td>\n",
       "    </tr>\n",
       "  </tbody>\n",
       "</table>\n",
       "<p>138185 rows × 29 columns</p>\n",
       "</div>"
      ],
      "text/plain": [
       "                                                    Title  \\\n",
       "0       Ferdinandsbrücke Project, Vienna, Austria (Ele...   \n",
       "1       City of Music, National Superior Conservatory ...   \n",
       "2       Villa near Vienna Project, Outside Vienna, Aus...   \n",
       "3       The Manhattan Transcripts Project, New York, N...   \n",
       "4       Villa, project, outside Vienna, Austria, Exter...   \n",
       "...                                                   ...   \n",
       "138180  Maison Modern-Style (Figueras) (plate, page 69...   \n",
       "138181  Cullinan Wing Addition, The Museum of Fine Art...   \n",
       "138182  Cullinan Wing Addition, The Museum of Fine Art...   \n",
       "138183  Title page (folio 2) from Mörder, Hoffnung der...   \n",
       "138184  Title page (folio 2) from Mörder, Hoffnung der...   \n",
       "\n",
       "                          Artist ConstituentID  \\\n",
       "0                    Otto Wagner          6210   \n",
       "1       Christian de Portzamparc          7470   \n",
       "2                     Emil Hoppe          7605   \n",
       "3                Bernard Tschumi          7056   \n",
       "4                     Emil Hoppe          7605   \n",
       "...                          ...           ...   \n",
       "138180             Salvador Dalí          1364   \n",
       "138181  Ludwig Mies van der Rohe          7166   \n",
       "138182  Ludwig Mies van der Rohe          7166   \n",
       "138183           Oskar Kokoschka          3197   \n",
       "138184           Oskar Kokoschka          3197   \n",
       "\n",
       "                                        ArtistBio Nationality BeginDate  \\\n",
       "0                           (Austrian, 1841–1918)  (Austrian)    (1841)   \n",
       "1                             (French, born 1944)    (French)    (1944)   \n",
       "2                           (Austrian, 1876–1957)  (Austrian)    (1876)   \n",
       "3       (French and Swiss, born Switzerland 1944)          ()    (1944)   \n",
       "4                           (Austrian, 1876–1957)  (Austrian)    (1876)   \n",
       "...                                           ...         ...       ...   \n",
       "138180                       (Spanish, 1904–1989)   (Spanish)    (1904)   \n",
       "138181        (American, born Germany. 1886–1969)  (American)    (1886)   \n",
       "138182        (American, born Germany. 1886–1969)  (American)    (1886)   \n",
       "138183                      (Austrian, 1886–1980)  (Austrian)    (1886)   \n",
       "138184                      (Austrian, 1886–1980)  (Austrian)    (1886)   \n",
       "\n",
       "       EndDate  Gender                              Date  \\\n",
       "0       (1918)  (Male)                              1896   \n",
       "1          (0)  (Male)                              1987   \n",
       "2       (1957)  (Male)                              1903   \n",
       "3          (0)  (Male)                              1980   \n",
       "4       (1957)  (Male)                              1903   \n",
       "...        ...     ...                               ...   \n",
       "138180  (1989)  (Male)                              1930   \n",
       "138181  (1969)  (Male)                              1954   \n",
       "138182  (1969)  (Male)                              1954   \n",
       "138183  (1980)  (Male)  1916 (original executed in 1910)   \n",
       "138184  (1980)  (Male)  1916 (original executed in 1910)   \n",
       "\n",
       "                                                   Medium  \\\n",
       "0           Ink and cut-and-pasted painted pages on paper   \n",
       "1                       Paint and colored pencil on print   \n",
       "2       Graphite, pen, color pencil, ink, and gouache ...   \n",
       "3       Photographic reproduction with colored synthet...   \n",
       "4       Graphite, color pencil, ink, and gouache on tr...   \n",
       "...                                                   ...   \n",
       "138180  Photogravure from an illustrated book with eig...   \n",
       "138181                                       Ink on paper   \n",
       "138182                                       Ink on paper   \n",
       "138183  Line block reproduction from an illustrated bo...   \n",
       "138184  Line block reproduction from an illustrated bo...   \n",
       "\n",
       "                                               Dimensions  \\\n",
       "0                      19 1/8 x 66 1/2\" (48.6 x 168.9 cm)   \n",
       "1                           16 x 11 3/4\" (40.6 x 29.8 cm)   \n",
       "2                       13 1/2 x 12 1/2\" (34.3 x 31.8 cm)   \n",
       "3                               20 x 20\" (50.8 x 50.8 cm)   \n",
       "4                        15 1/8 x 7 1/2\" (38.4 x 19.1 cm)   \n",
       "...                                                   ...   \n",
       "138180  plate: 7 3/16 × 5\" (18.3 × 12.7 cm); page (eac...   \n",
       "138181                            5 x 8\" (12.7 x 20.3 cm)   \n",
       "138182                            5 x 8\" (12.7 x 20.3 cm)   \n",
       "138183  composition (irreg.): 4 1/8 × 3 1/8\" (10.5 × 8...   \n",
       "138184  composition (irreg.): 4 1/8 × 3 1/8\" (10.5 × 8...   \n",
       "\n",
       "                                               CreditLine AccessionNumber  \\\n",
       "0       Fractional and promised gift of Jo Carole and ...        885.1996   \n",
       "1       Gift of the architect in honor of Lily Auchinc...          1.1995   \n",
       "2                  Gift of Jo Carole and Ronald S. Lauder          1.1997   \n",
       "3       Purchase and partial gift of the architect in ...          2.1995   \n",
       "4                  Gift of Jo Carole and Ronald S. Lauder          2.1997   \n",
       "...                                                   ...             ...   \n",
       "138180                            Gift of Walter Chrysler      544.1997.8   \n",
       "138181   Mies van der Rohe Archive, gift of the architect       MR5405B.7   \n",
       "138182   Mies van der Rohe Archive, gift of the architect       MR5405B.8   \n",
       "138183                      The Louis E. Stern Collection      862.1964.1   \n",
       "138184                Transferred from the Museum Library      580.1949.1   \n",
       "\n",
       "                   Classification             Department DateAcquired  \\\n",
       "0                    Architecture  Architecture & Design   1996-04-09   \n",
       "1                    Architecture  Architecture & Design   1995-01-17   \n",
       "2                    Architecture  Architecture & Design   1997-01-15   \n",
       "3                    Architecture  Architecture & Design   1995-01-17   \n",
       "4                    Architecture  Architecture & Design   1997-01-15   \n",
       "...                           ...                    ...          ...   \n",
       "138180           Illustrated Book      Drawings & Prints   1997-11-11   \n",
       "138181  Mies van der Rohe Archive  Architecture & Design          NaN   \n",
       "138182  Mies van der Rohe Archive  Architecture & Design          NaN   \n",
       "138183           Illustrated Book      Drawings & Prints   1949-09-29   \n",
       "138184           Illustrated Book      Drawings & Prints   1949-09-29   \n",
       "\n",
       "       Cataloged  ObjectID                                          URL  \\\n",
       "0              Y         2       http://www.moma.org/collection/works/2   \n",
       "1              Y         3       http://www.moma.org/collection/works/3   \n",
       "2              Y         4       http://www.moma.org/collection/works/4   \n",
       "3              Y         5       http://www.moma.org/collection/works/5   \n",
       "4              Y         6       http://www.moma.org/collection/works/6   \n",
       "...          ...       ...                                          ...   \n",
       "138180         Y    417611  http://www.moma.org/collection/works/417611   \n",
       "138181         N    417760                                          NaN   \n",
       "138182         N    417761                                          NaN   \n",
       "138183         Y    418508  http://www.moma.org/collection/works/418508   \n",
       "138184         Y    418509  http://www.moma.org/collection/works/418509   \n",
       "\n",
       "                                             ThumbnailURL  Circumference (cm)  \\\n",
       "0       http://www.moma.org/media/W1siZiIsIjU5NDA1Il0s...                 NaN   \n",
       "1       http://www.moma.org/media/W1siZiIsIjk3Il0sWyJw...                 NaN   \n",
       "2       http://www.moma.org/media/W1siZiIsIjk4Il0sWyJw...                 NaN   \n",
       "3       http://www.moma.org/media/W1siZiIsIjEyNCJdLFsi...                 NaN   \n",
       "4       http://www.moma.org/media/W1siZiIsIjEyNiJdLFsi...                 NaN   \n",
       "...                                                   ...                 ...   \n",
       "138180                                                NaN                 NaN   \n",
       "138181                                                NaN                 NaN   \n",
       "138182                                                NaN                 NaN   \n",
       "138183  http://www.moma.org/media/W1siZiIsIjEyNjMwNiJd...                 NaN   \n",
       "138184  http://www.moma.org/media/W1siZiIsIjEyNjQ0NiJd...                 NaN   \n",
       "\n",
       "        Depth (cm)  Diameter (cm)  Height (cm)  Length (cm)  Weight (kg)  \\\n",
       "0              NaN            NaN    48.600000          NaN          NaN   \n",
       "1              NaN            NaN    40.640100          NaN          NaN   \n",
       "2              NaN            NaN    34.300000          NaN          NaN   \n",
       "3              NaN            NaN    50.800000          NaN          NaN   \n",
       "4              NaN            NaN    38.400000          NaN          NaN   \n",
       "...            ...            ...          ...          ...          ...   \n",
       "138180         NaN            NaN    18.300000          NaN          NaN   \n",
       "138181         NaN            NaN    12.700025          NaN          NaN   \n",
       "138182         NaN            NaN    12.700025          NaN          NaN   \n",
       "138183         NaN            NaN    10.500000          NaN          NaN   \n",
       "138184         NaN            NaN    10.500000          NaN          NaN   \n",
       "\n",
       "        Width (cm)  Seat Height (cm)  Duration (sec.)  \n",
       "0       168.900000               NaN              NaN  \n",
       "1        29.845100               NaN              NaN  \n",
       "2        31.800000               NaN              NaN  \n",
       "3        50.800000               NaN              NaN  \n",
       "4        19.100000               NaN              NaN  \n",
       "...            ...               ...              ...  \n",
       "138180   12.700000               NaN              NaN  \n",
       "138181   20.320041               NaN              NaN  \n",
       "138182   20.320041               NaN              NaN  \n",
       "138183    8.000000               NaN              NaN  \n",
       "138184    8.000000               NaN              NaN  \n",
       "\n",
       "[138185 rows x 29 columns]"
      ]
     },
     "execution_count": 2,
     "metadata": {},
     "output_type": "execute_result"
    }
   ],
   "source": [
    "# Read in the csv and convert to a data frame\n",
    "df = pd.read_csv('Artworks.csv')\n",
    "# Set display to show all fields\n",
    "pd.set_option(\"display.max_columns\", 29)\n",
    "# Display data frame\n",
    "df"
   ]
  },
  {
   "cell_type": "markdown",
   "metadata": {},
   "source": [
    "## Cleaning the Data\n",
    "Now that we've loaded the data into a data frame, we can easily see that each indexed row represents a different work of art in the museum's collection. Before we can explore it further, we need to tidy it up a bit. Let's start by removing the columns that we won't need for our analysis.\n",
    "\n",
    "We can get a compact list of the fields in this data frame by accessing it's **columns** attribute."
   ]
  },
  {
   "cell_type": "code",
   "execution_count": 3,
   "metadata": {},
   "outputs": [
    {
     "data": {
      "text/plain": [
       "Index(['Title', 'Artist', 'ConstituentID', 'ArtistBio', 'Nationality',\n",
       "       'BeginDate', 'EndDate', 'Gender', 'Date', 'Medium', 'Dimensions',\n",
       "       'CreditLine', 'AccessionNumber', 'Classification', 'Department',\n",
       "       'DateAcquired', 'Cataloged', 'ObjectID', 'URL', 'ThumbnailURL',\n",
       "       'Circumference (cm)', 'Depth (cm)', 'Diameter (cm)', 'Height (cm)',\n",
       "       'Length (cm)', 'Weight (kg)', 'Width (cm)', 'Seat Height (cm)',\n",
       "       'Duration (sec.)'],\n",
       "      dtype='object')"
      ]
     },
     "execution_count": 3,
     "metadata": {},
     "output_type": "execute_result"
    }
   ],
   "source": [
    "df.columns"
   ]
  },
  {
   "cell_type": "markdown",
   "metadata": {},
   "source": [
    "Looking at these fields, there appears to be several that won't be of use to us. In some cases this is because the data is irrelevant to our analysis. For example, we do not need the contents of the **URL** field because we don't need to access any external websites. In other cases, we may not need a column because it contains data that is repeated elsewhere. For example, the **Dimensions** field has data that is repeated in the **Height (cm)** and **Width (cm)** fields.\n",
    "\n",
    "We will use the pandas **drop** method to remove these columns."
   ]
  },
  {
   "cell_type": "code",
   "execution_count": 4,
   "metadata": {
    "scrolled": true
   },
   "outputs": [
    {
     "data": {
      "text/html": [
       "<div>\n",
       "<style scoped>\n",
       "    .dataframe tbody tr th:only-of-type {\n",
       "        vertical-align: middle;\n",
       "    }\n",
       "\n",
       "    .dataframe tbody tr th {\n",
       "        vertical-align: top;\n",
       "    }\n",
       "\n",
       "    .dataframe thead th {\n",
       "        text-align: right;\n",
       "    }\n",
       "</style>\n",
       "<table border=\"1\" class=\"dataframe\">\n",
       "  <thead>\n",
       "    <tr style=\"text-align: right;\">\n",
       "      <th></th>\n",
       "      <th>Title</th>\n",
       "      <th>Artist</th>\n",
       "      <th>Nationality</th>\n",
       "      <th>Gender</th>\n",
       "      <th>Date</th>\n",
       "      <th>Medium</th>\n",
       "      <th>Classification</th>\n",
       "      <th>Department</th>\n",
       "      <th>DateAcquired</th>\n",
       "      <th>Height (cm)</th>\n",
       "      <th>Width (cm)</th>\n",
       "    </tr>\n",
       "  </thead>\n",
       "  <tbody>\n",
       "    <tr>\n",
       "      <th>0</th>\n",
       "      <td>Ferdinandsbrücke Project, Vienna, Austria (Ele...</td>\n",
       "      <td>Otto Wagner</td>\n",
       "      <td>(Austrian)</td>\n",
       "      <td>(Male)</td>\n",
       "      <td>1896</td>\n",
       "      <td>Ink and cut-and-pasted painted pages on paper</td>\n",
       "      <td>Architecture</td>\n",
       "      <td>Architecture &amp; Design</td>\n",
       "      <td>1996-04-09</td>\n",
       "      <td>48.6000</td>\n",
       "      <td>168.9000</td>\n",
       "    </tr>\n",
       "    <tr>\n",
       "      <th>1</th>\n",
       "      <td>City of Music, National Superior Conservatory ...</td>\n",
       "      <td>Christian de Portzamparc</td>\n",
       "      <td>(French)</td>\n",
       "      <td>(Male)</td>\n",
       "      <td>1987</td>\n",
       "      <td>Paint and colored pencil on print</td>\n",
       "      <td>Architecture</td>\n",
       "      <td>Architecture &amp; Design</td>\n",
       "      <td>1995-01-17</td>\n",
       "      <td>40.6401</td>\n",
       "      <td>29.8451</td>\n",
       "    </tr>\n",
       "    <tr>\n",
       "      <th>2</th>\n",
       "      <td>Villa near Vienna Project, Outside Vienna, Aus...</td>\n",
       "      <td>Emil Hoppe</td>\n",
       "      <td>(Austrian)</td>\n",
       "      <td>(Male)</td>\n",
       "      <td>1903</td>\n",
       "      <td>Graphite, pen, color pencil, ink, and gouache ...</td>\n",
       "      <td>Architecture</td>\n",
       "      <td>Architecture &amp; Design</td>\n",
       "      <td>1997-01-15</td>\n",
       "      <td>34.3000</td>\n",
       "      <td>31.8000</td>\n",
       "    </tr>\n",
       "    <tr>\n",
       "      <th>3</th>\n",
       "      <td>The Manhattan Transcripts Project, New York, N...</td>\n",
       "      <td>Bernard Tschumi</td>\n",
       "      <td>()</td>\n",
       "      <td>(Male)</td>\n",
       "      <td>1980</td>\n",
       "      <td>Photographic reproduction with colored synthet...</td>\n",
       "      <td>Architecture</td>\n",
       "      <td>Architecture &amp; Design</td>\n",
       "      <td>1995-01-17</td>\n",
       "      <td>50.8000</td>\n",
       "      <td>50.8000</td>\n",
       "    </tr>\n",
       "    <tr>\n",
       "      <th>4</th>\n",
       "      <td>Villa, project, outside Vienna, Austria, Exter...</td>\n",
       "      <td>Emil Hoppe</td>\n",
       "      <td>(Austrian)</td>\n",
       "      <td>(Male)</td>\n",
       "      <td>1903</td>\n",
       "      <td>Graphite, color pencil, ink, and gouache on tr...</td>\n",
       "      <td>Architecture</td>\n",
       "      <td>Architecture &amp; Design</td>\n",
       "      <td>1997-01-15</td>\n",
       "      <td>38.4000</td>\n",
       "      <td>19.1000</td>\n",
       "    </tr>\n",
       "  </tbody>\n",
       "</table>\n",
       "</div>"
      ],
      "text/plain": [
       "                                               Title  \\\n",
       "0  Ferdinandsbrücke Project, Vienna, Austria (Ele...   \n",
       "1  City of Music, National Superior Conservatory ...   \n",
       "2  Villa near Vienna Project, Outside Vienna, Aus...   \n",
       "3  The Manhattan Transcripts Project, New York, N...   \n",
       "4  Villa, project, outside Vienna, Austria, Exter...   \n",
       "\n",
       "                     Artist Nationality  Gender  Date  \\\n",
       "0               Otto Wagner  (Austrian)  (Male)  1896   \n",
       "1  Christian de Portzamparc    (French)  (Male)  1987   \n",
       "2                Emil Hoppe  (Austrian)  (Male)  1903   \n",
       "3           Bernard Tschumi          ()  (Male)  1980   \n",
       "4                Emil Hoppe  (Austrian)  (Male)  1903   \n",
       "\n",
       "                                              Medium Classification  \\\n",
       "0      Ink and cut-and-pasted painted pages on paper   Architecture   \n",
       "1                  Paint and colored pencil on print   Architecture   \n",
       "2  Graphite, pen, color pencil, ink, and gouache ...   Architecture   \n",
       "3  Photographic reproduction with colored synthet...   Architecture   \n",
       "4  Graphite, color pencil, ink, and gouache on tr...   Architecture   \n",
       "\n",
       "              Department DateAcquired  Height (cm)  Width (cm)  \n",
       "0  Architecture & Design   1996-04-09      48.6000    168.9000  \n",
       "1  Architecture & Design   1995-01-17      40.6401     29.8451  \n",
       "2  Architecture & Design   1997-01-15      34.3000     31.8000  \n",
       "3  Architecture & Design   1995-01-17      50.8000     50.8000  \n",
       "4  Architecture & Design   1997-01-15      38.4000     19.1000  "
      ]
     },
     "execution_count": 4,
     "metadata": {},
     "output_type": "execute_result"
    }
   ],
   "source": [
    "# Make a list of the columns we want to drop from the data frame\n",
    "cols_to_drop = ['ConstituentID', 'ArtistBio', 'BeginDate', 'EndDate', 'Dimensions', \\\n",
    "                'CreditLine', 'AccessionNumber', 'Cataloged', 'ObjectID', 'URL', \\\n",
    "                'ThumbnailURL', 'Circumference (cm)', 'Depth (cm)', 'Diameter (cm)', \\\n",
    "                'Length (cm)', 'Weight (kg)', 'Seat Height (cm)', 'Duration (sec.)']\n",
    "# Drop those columns\n",
    "df = df.drop(columns=cols_to_drop)\n",
    "# Reset the display to show the remaining 11 columns\n",
    "pd.set_option(\"display.max_columns\", 11)\n",
    "# Display the first 5 rows of the data frame\n",
    "df.head()"
   ]
  },
  {
   "cell_type": "markdown",
   "metadata": {},
   "source": [
    "We will also rename the **Height (cm)** an **Width (cm)** columns so that they are cleaner and match the camel case convention used in other columns. We will do this using the pandas **rename** method, which takes as an argument a dictionary mapping the current column names to what they should be changed to. We also set **axis=1** to denote that we are changing column names (as opposed to 0 for rows) and set **inplace=True** so that the changes are made to the original data frame."
   ]
  },
  {
   "cell_type": "code",
   "execution_count": 5,
   "metadata": {},
   "outputs": [
    {
     "data": {
      "text/html": [
       "<div>\n",
       "<style scoped>\n",
       "    .dataframe tbody tr th:only-of-type {\n",
       "        vertical-align: middle;\n",
       "    }\n",
       "\n",
       "    .dataframe tbody tr th {\n",
       "        vertical-align: top;\n",
       "    }\n",
       "\n",
       "    .dataframe thead th {\n",
       "        text-align: right;\n",
       "    }\n",
       "</style>\n",
       "<table border=\"1\" class=\"dataframe\">\n",
       "  <thead>\n",
       "    <tr style=\"text-align: right;\">\n",
       "      <th></th>\n",
       "      <th>Title</th>\n",
       "      <th>Artist</th>\n",
       "      <th>Nationality</th>\n",
       "      <th>Gender</th>\n",
       "      <th>Date</th>\n",
       "      <th>Medium</th>\n",
       "      <th>Classification</th>\n",
       "      <th>Department</th>\n",
       "      <th>DateAcquired</th>\n",
       "      <th>HeightCm</th>\n",
       "      <th>WidthCm</th>\n",
       "    </tr>\n",
       "  </thead>\n",
       "  <tbody>\n",
       "    <tr>\n",
       "      <th>0</th>\n",
       "      <td>Ferdinandsbrücke Project, Vienna, Austria (Ele...</td>\n",
       "      <td>Otto Wagner</td>\n",
       "      <td>(Austrian)</td>\n",
       "      <td>(Male)</td>\n",
       "      <td>1896</td>\n",
       "      <td>Ink and cut-and-pasted painted pages on paper</td>\n",
       "      <td>Architecture</td>\n",
       "      <td>Architecture &amp; Design</td>\n",
       "      <td>1996-04-09</td>\n",
       "      <td>48.6000</td>\n",
       "      <td>168.9000</td>\n",
       "    </tr>\n",
       "    <tr>\n",
       "      <th>1</th>\n",
       "      <td>City of Music, National Superior Conservatory ...</td>\n",
       "      <td>Christian de Portzamparc</td>\n",
       "      <td>(French)</td>\n",
       "      <td>(Male)</td>\n",
       "      <td>1987</td>\n",
       "      <td>Paint and colored pencil on print</td>\n",
       "      <td>Architecture</td>\n",
       "      <td>Architecture &amp; Design</td>\n",
       "      <td>1995-01-17</td>\n",
       "      <td>40.6401</td>\n",
       "      <td>29.8451</td>\n",
       "    </tr>\n",
       "    <tr>\n",
       "      <th>2</th>\n",
       "      <td>Villa near Vienna Project, Outside Vienna, Aus...</td>\n",
       "      <td>Emil Hoppe</td>\n",
       "      <td>(Austrian)</td>\n",
       "      <td>(Male)</td>\n",
       "      <td>1903</td>\n",
       "      <td>Graphite, pen, color pencil, ink, and gouache ...</td>\n",
       "      <td>Architecture</td>\n",
       "      <td>Architecture &amp; Design</td>\n",
       "      <td>1997-01-15</td>\n",
       "      <td>34.3000</td>\n",
       "      <td>31.8000</td>\n",
       "    </tr>\n",
       "    <tr>\n",
       "      <th>3</th>\n",
       "      <td>The Manhattan Transcripts Project, New York, N...</td>\n",
       "      <td>Bernard Tschumi</td>\n",
       "      <td>()</td>\n",
       "      <td>(Male)</td>\n",
       "      <td>1980</td>\n",
       "      <td>Photographic reproduction with colored synthet...</td>\n",
       "      <td>Architecture</td>\n",
       "      <td>Architecture &amp; Design</td>\n",
       "      <td>1995-01-17</td>\n",
       "      <td>50.8000</td>\n",
       "      <td>50.8000</td>\n",
       "    </tr>\n",
       "    <tr>\n",
       "      <th>4</th>\n",
       "      <td>Villa, project, outside Vienna, Austria, Exter...</td>\n",
       "      <td>Emil Hoppe</td>\n",
       "      <td>(Austrian)</td>\n",
       "      <td>(Male)</td>\n",
       "      <td>1903</td>\n",
       "      <td>Graphite, color pencil, ink, and gouache on tr...</td>\n",
       "      <td>Architecture</td>\n",
       "      <td>Architecture &amp; Design</td>\n",
       "      <td>1997-01-15</td>\n",
       "      <td>38.4000</td>\n",
       "      <td>19.1000</td>\n",
       "    </tr>\n",
       "  </tbody>\n",
       "</table>\n",
       "</div>"
      ],
      "text/plain": [
       "                                               Title  \\\n",
       "0  Ferdinandsbrücke Project, Vienna, Austria (Ele...   \n",
       "1  City of Music, National Superior Conservatory ...   \n",
       "2  Villa near Vienna Project, Outside Vienna, Aus...   \n",
       "3  The Manhattan Transcripts Project, New York, N...   \n",
       "4  Villa, project, outside Vienna, Austria, Exter...   \n",
       "\n",
       "                     Artist Nationality  Gender  Date  \\\n",
       "0               Otto Wagner  (Austrian)  (Male)  1896   \n",
       "1  Christian de Portzamparc    (French)  (Male)  1987   \n",
       "2                Emil Hoppe  (Austrian)  (Male)  1903   \n",
       "3           Bernard Tschumi          ()  (Male)  1980   \n",
       "4                Emil Hoppe  (Austrian)  (Male)  1903   \n",
       "\n",
       "                                              Medium Classification  \\\n",
       "0      Ink and cut-and-pasted painted pages on paper   Architecture   \n",
       "1                  Paint and colored pencil on print   Architecture   \n",
       "2  Graphite, pen, color pencil, ink, and gouache ...   Architecture   \n",
       "3  Photographic reproduction with colored synthet...   Architecture   \n",
       "4  Graphite, color pencil, ink, and gouache on tr...   Architecture   \n",
       "\n",
       "              Department DateAcquired  HeightCm   WidthCm  \n",
       "0  Architecture & Design   1996-04-09   48.6000  168.9000  \n",
       "1  Architecture & Design   1995-01-17   40.6401   29.8451  \n",
       "2  Architecture & Design   1997-01-15   34.3000   31.8000  \n",
       "3  Architecture & Design   1995-01-17   50.8000   50.8000  \n",
       "4  Architecture & Design   1997-01-15   38.4000   19.1000  "
      ]
     },
     "execution_count": 5,
     "metadata": {},
     "output_type": "execute_result"
    }
   ],
   "source": [
    "# Rename height and width attributes \n",
    "df.rename({'Height (cm)': 'HeightCm', 'Width (cm)': 'WidthCm'}, axis=1, inplace=True)\n",
    "df.head()"
   ]
  },
  {
   "cell_type": "markdown",
   "metadata": {},
   "source": [
    "The data is now much more concise without those extra columns. The next thing that we need to investigte is the use of parentheses in the **Nationality** and **Gender** columns. They seem unnecessary, so we should remove them. But maybe there is a reason that they are there. Let's take a look at the different values in the Gender column to see if there is anything hiding in there. We can do this with the pandas **value_counts** method."
   ]
  },
  {
   "cell_type": "code",
   "execution_count": 6,
   "metadata": {},
   "outputs": [
    {
     "data": {
      "text/plain": [
       "(Male)                                                                                                                                                                                                                       104220\n",
       "(Female)                                                                                                                                                                                                                      17699\n",
       "()                                                                                                                                                                                                                             7397\n",
       "(Male) (Male)                                                                                                                                                                                                                  1763\n",
       "(Male) (Male) (Male)                                                                                                                                                                                                            885\n",
       "                                                                                                                                                                                                                              ...  \n",
       "() (Male) (male)                                                                                                                                                                                                                  1\n",
       "(Male) (Female) (Female) (Male) (Male) (Male) (Male) (Male) (Male) (Male) ()                                                                                                                                                      1\n",
       "(Male) () () (Male)                                                                                                                                                                                                               1\n",
       "(Male) (Male) (Male) (Male) (Male) (Male) (Male) (Female) (Male) (Male) (Male) (Male) (Male) (Male) (Male) ()                                                                                                                     1\n",
       "(Male) (Female) (Female) (Male) (Male) (Male) (Female) (Male) (Female) (Male) (Male) (Female) (Female) (Male) (Male) (Male) (Male) (Male) (Male) (Male) (Male) (Male) (Male) (Male) (Male) (Male) (Male) (Male) (Male) ()         1\n",
       "Name: Gender, Length: 409, dtype: int64"
      ]
     },
     "execution_count": 6,
     "metadata": {},
     "output_type": "execute_result"
    }
   ],
   "source": [
    "# Display values in the Gender column\n",
    "df['Gender'].value_counts()"
   ]
  },
  {
   "cell_type": "markdown",
   "metadata": {},
   "source": [
    "This is peculiar - it appears that some pieces have multiple genders in this field. Let's take a closer look at one of these unusual rows to see if we can determine why. We can do this by selecting the rows where the **Gender** column is equal to one of these values. "
   ]
  },
  {
   "cell_type": "code",
   "execution_count": 7,
   "metadata": {},
   "outputs": [
    {
     "data": {
      "text/html": [
       "<div>\n",
       "<style scoped>\n",
       "    .dataframe tbody tr th:only-of-type {\n",
       "        vertical-align: middle;\n",
       "    }\n",
       "\n",
       "    .dataframe tbody tr th {\n",
       "        vertical-align: top;\n",
       "    }\n",
       "\n",
       "    .dataframe thead th {\n",
       "        text-align: right;\n",
       "    }\n",
       "</style>\n",
       "<table border=\"1\" class=\"dataframe\">\n",
       "  <thead>\n",
       "    <tr style=\"text-align: right;\">\n",
       "      <th></th>\n",
       "      <th>Title</th>\n",
       "      <th>Artist</th>\n",
       "      <th>Nationality</th>\n",
       "      <th>Gender</th>\n",
       "      <th>Date</th>\n",
       "      <th>Medium</th>\n",
       "      <th>Classification</th>\n",
       "      <th>Department</th>\n",
       "      <th>DateAcquired</th>\n",
       "      <th>HeightCm</th>\n",
       "      <th>WidthCm</th>\n",
       "    </tr>\n",
       "  </thead>\n",
       "  <tbody>\n",
       "    <tr>\n",
       "      <th>96503</th>\n",
       "      <td>George Maciunas' In Memoriam to Adriano Olivet...</td>\n",
       "      <td>George Maciunas, Nam June Paik, Alison Knowles...</td>\n",
       "      <td>(American) (American) (American) (American) (A...</td>\n",
       "      <td>(Male) (Male) (Female) (Male) (Male) (Male)</td>\n",
       "      <td>1962</td>\n",
       "      <td>Gelatin silver print</td>\n",
       "      <td>Photograph</td>\n",
       "      <td>Drawings &amp; Prints</td>\n",
       "      <td>NaN</td>\n",
       "      <td>20.2</td>\n",
       "      <td>25.3</td>\n",
       "    </tr>\n",
       "  </tbody>\n",
       "</table>\n",
       "</div>"
      ],
      "text/plain": [
       "                                                   Title  \\\n",
       "96503  George Maciunas' In Memoriam to Adriano Olivet...   \n",
       "\n",
       "                                                  Artist  \\\n",
       "96503  George Maciunas, Nam June Paik, Alison Knowles...   \n",
       "\n",
       "                                             Nationality  \\\n",
       "96503  (American) (American) (American) (American) (A...   \n",
       "\n",
       "                                            Gender  Date  \\\n",
       "96503  (Male) (Male) (Female) (Male) (Male) (Male)  1962   \n",
       "\n",
       "                     Medium Classification         Department DateAcquired  \\\n",
       "96503  Gelatin silver print     Photograph  Drawings & Prints          NaN   \n",
       "\n",
       "       HeightCm  WidthCm  \n",
       "96503      20.2     25.3  "
      ]
     },
     "execution_count": 7,
     "metadata": {},
     "output_type": "execute_result"
    }
   ],
   "source": [
    "# Examine a row with multiple gender attibutes\n",
    "df[df['Gender'] == '(Male) (Male) (Female) (Male) (Male) (Male)']"
   ]
  },
  {
   "cell_type": "markdown",
   "metadata": {},
   "source": [
    "It appears that this work is attributed to multiple artists and that there is a **Nationality** and **Gender** listed for each of them in separated parentheses. This won't work very well for our analysis, so we will expand any row with multiple artists into multiple rows, with one for each contributer. \n",
    "\n",
    "To do this, we will first use the pandas **str.split** method to split the **Nationality** and **Gender** fields with the space character as a delimiter as well as the **Artist** field with a comma as the delimiter. We set the argument **expand=True** so that each delimited string will become its own column in the row. Then we use **stack** to create rows out of these columns. The original index of our dataframe will be maintained in the resulting series, which will be useful to us later."
   ]
  },
  {
   "cell_type": "code",
   "execution_count": 8,
   "metadata": {},
   "outputs": [],
   "source": [
    "# Expand and stack works with multiple artists into series\n",
    "g = df['Gender'].str.split(' ', expand=True).stack()\n",
    "n = df['Nationality'].str.split(' ', expand=True).stack()\n",
    "a = df['Artist'].str.split(',', expand=True).stack()"
   ]
  },
  {
   "cell_type": "markdown",
   "metadata": {},
   "source": [
    "Now we will concatenate these three series into a new data frame. We will do this with the pandas **concat** function by passing in a list of these three series to join and setting **axis=1** to indicate that we want to concatenate them as columns. We will then remove the extra index with the pandas **droplevel** method."
   ]
  },
  {
   "cell_type": "code",
   "execution_count": 9,
   "metadata": {},
   "outputs": [
    {
     "data": {
      "text/html": [
       "<div>\n",
       "<style scoped>\n",
       "    .dataframe tbody tr th:only-of-type {\n",
       "        vertical-align: middle;\n",
       "    }\n",
       "\n",
       "    .dataframe tbody tr th {\n",
       "        vertical-align: top;\n",
       "    }\n",
       "\n",
       "    .dataframe thead th {\n",
       "        text-align: right;\n",
       "    }\n",
       "</style>\n",
       "<table border=\"1\" class=\"dataframe\">\n",
       "  <thead>\n",
       "    <tr style=\"text-align: right;\">\n",
       "      <th></th>\n",
       "      <th>Gender</th>\n",
       "      <th>Nationality</th>\n",
       "      <th>Artist</th>\n",
       "    </tr>\n",
       "  </thead>\n",
       "  <tbody>\n",
       "    <tr>\n",
       "      <th>0</th>\n",
       "      <td>(Male)</td>\n",
       "      <td>(Austrian)</td>\n",
       "      <td>Otto Wagner</td>\n",
       "    </tr>\n",
       "    <tr>\n",
       "      <th>1</th>\n",
       "      <td>(Male)</td>\n",
       "      <td>(French)</td>\n",
       "      <td>Christian de Portzamparc</td>\n",
       "    </tr>\n",
       "    <tr>\n",
       "      <th>2</th>\n",
       "      <td>(Male)</td>\n",
       "      <td>(Austrian)</td>\n",
       "      <td>Emil Hoppe</td>\n",
       "    </tr>\n",
       "    <tr>\n",
       "      <th>3</th>\n",
       "      <td>(Male)</td>\n",
       "      <td>()</td>\n",
       "      <td>Bernard Tschumi</td>\n",
       "    </tr>\n",
       "    <tr>\n",
       "      <th>4</th>\n",
       "      <td>(Male)</td>\n",
       "      <td>(Austrian)</td>\n",
       "      <td>Emil Hoppe</td>\n",
       "    </tr>\n",
       "    <tr>\n",
       "      <th>...</th>\n",
       "      <td>...</td>\n",
       "      <td>...</td>\n",
       "      <td>...</td>\n",
       "    </tr>\n",
       "    <tr>\n",
       "      <th>138180</th>\n",
       "      <td>(Male)</td>\n",
       "      <td>(Spanish)</td>\n",
       "      <td>Salvador Dalí</td>\n",
       "    </tr>\n",
       "    <tr>\n",
       "      <th>138181</th>\n",
       "      <td>(Male)</td>\n",
       "      <td>(American)</td>\n",
       "      <td>Ludwig Mies van der Rohe</td>\n",
       "    </tr>\n",
       "    <tr>\n",
       "      <th>138182</th>\n",
       "      <td>(Male)</td>\n",
       "      <td>(American)</td>\n",
       "      <td>Ludwig Mies van der Rohe</td>\n",
       "    </tr>\n",
       "    <tr>\n",
       "      <th>138183</th>\n",
       "      <td>(Male)</td>\n",
       "      <td>(Austrian)</td>\n",
       "      <td>Oskar Kokoschka</td>\n",
       "    </tr>\n",
       "    <tr>\n",
       "      <th>138184</th>\n",
       "      <td>(Male)</td>\n",
       "      <td>(Austrian)</td>\n",
       "      <td>Oskar Kokoschka</td>\n",
       "    </tr>\n",
       "  </tbody>\n",
       "</table>\n",
       "<p>155498 rows × 3 columns</p>\n",
       "</div>"
      ],
      "text/plain": [
       "        Gender Nationality                    Artist\n",
       "0       (Male)  (Austrian)               Otto Wagner\n",
       "1       (Male)    (French)  Christian de Portzamparc\n",
       "2       (Male)  (Austrian)                Emil Hoppe\n",
       "3       (Male)          ()           Bernard Tschumi\n",
       "4       (Male)  (Austrian)                Emil Hoppe\n",
       "...        ...         ...                       ...\n",
       "138180  (Male)   (Spanish)             Salvador Dalí\n",
       "138181  (Male)  (American)  Ludwig Mies van der Rohe\n",
       "138182  (Male)  (American)  Ludwig Mies van der Rohe\n",
       "138183  (Male)  (Austrian)           Oskar Kokoschka\n",
       "138184  (Male)  (Austrian)           Oskar Kokoschka\n",
       "\n",
       "[155498 rows x 3 columns]"
      ]
     },
     "execution_count": 9,
     "metadata": {},
     "output_type": "execute_result"
    }
   ],
   "source": [
    "# Concatenate Gender, Nationality, and Artist series\n",
    "new_df = pd.concat([g,n,a], axis=1, keys=['Gender','Nationality', 'Artist'])\n",
    "# Drop extra index\n",
    "new_df = new_df.droplevel(1)\n",
    "new_df"
   ]
  },
  {
   "cell_type": "markdown",
   "metadata": {},
   "source": [
    "Now we can combine this new data frame with our original dataframe. First, we'll drop the **Gender**, **Nationality**, and **Artist** columns from the original data frame since we won't need them anymore. Then we will perform an inner join, using the pandas **join** function, which will combine the two data frames based on their matching indices. "
   ]
  },
  {
   "cell_type": "code",
   "execution_count": 10,
   "metadata": {
    "scrolled": true
   },
   "outputs": [
    {
     "data": {
      "text/html": [
       "<div>\n",
       "<style scoped>\n",
       "    .dataframe tbody tr th:only-of-type {\n",
       "        vertical-align: middle;\n",
       "    }\n",
       "\n",
       "    .dataframe tbody tr th {\n",
       "        vertical-align: top;\n",
       "    }\n",
       "\n",
       "    .dataframe thead th {\n",
       "        text-align: right;\n",
       "    }\n",
       "</style>\n",
       "<table border=\"1\" class=\"dataframe\">\n",
       "  <thead>\n",
       "    <tr style=\"text-align: right;\">\n",
       "      <th></th>\n",
       "      <th>Title</th>\n",
       "      <th>Date</th>\n",
       "      <th>Medium</th>\n",
       "      <th>Classification</th>\n",
       "      <th>Department</th>\n",
       "      <th>DateAcquired</th>\n",
       "      <th>HeightCm</th>\n",
       "      <th>WidthCm</th>\n",
       "      <th>Gender</th>\n",
       "      <th>Nationality</th>\n",
       "      <th>Artist</th>\n",
       "    </tr>\n",
       "  </thead>\n",
       "  <tbody>\n",
       "    <tr>\n",
       "      <th>0</th>\n",
       "      <td>Ferdinandsbrücke Project, Vienna, Austria (Ele...</td>\n",
       "      <td>1896</td>\n",
       "      <td>Ink and cut-and-pasted painted pages on paper</td>\n",
       "      <td>Architecture</td>\n",
       "      <td>Architecture &amp; Design</td>\n",
       "      <td>1996-04-09</td>\n",
       "      <td>48.6000</td>\n",
       "      <td>168.9000</td>\n",
       "      <td>(Male)</td>\n",
       "      <td>(Austrian)</td>\n",
       "      <td>Otto Wagner</td>\n",
       "    </tr>\n",
       "    <tr>\n",
       "      <th>1</th>\n",
       "      <td>City of Music, National Superior Conservatory ...</td>\n",
       "      <td>1987</td>\n",
       "      <td>Paint and colored pencil on print</td>\n",
       "      <td>Architecture</td>\n",
       "      <td>Architecture &amp; Design</td>\n",
       "      <td>1995-01-17</td>\n",
       "      <td>40.6401</td>\n",
       "      <td>29.8451</td>\n",
       "      <td>(Male)</td>\n",
       "      <td>(French)</td>\n",
       "      <td>Christian de Portzamparc</td>\n",
       "    </tr>\n",
       "    <tr>\n",
       "      <th>2</th>\n",
       "      <td>Villa near Vienna Project, Outside Vienna, Aus...</td>\n",
       "      <td>1903</td>\n",
       "      <td>Graphite, pen, color pencil, ink, and gouache ...</td>\n",
       "      <td>Architecture</td>\n",
       "      <td>Architecture &amp; Design</td>\n",
       "      <td>1997-01-15</td>\n",
       "      <td>34.3000</td>\n",
       "      <td>31.8000</td>\n",
       "      <td>(Male)</td>\n",
       "      <td>(Austrian)</td>\n",
       "      <td>Emil Hoppe</td>\n",
       "    </tr>\n",
       "    <tr>\n",
       "      <th>3</th>\n",
       "      <td>The Manhattan Transcripts Project, New York, N...</td>\n",
       "      <td>1980</td>\n",
       "      <td>Photographic reproduction with colored synthet...</td>\n",
       "      <td>Architecture</td>\n",
       "      <td>Architecture &amp; Design</td>\n",
       "      <td>1995-01-17</td>\n",
       "      <td>50.8000</td>\n",
       "      <td>50.8000</td>\n",
       "      <td>(Male)</td>\n",
       "      <td>()</td>\n",
       "      <td>Bernard Tschumi</td>\n",
       "    </tr>\n",
       "    <tr>\n",
       "      <th>4</th>\n",
       "      <td>Villa, project, outside Vienna, Austria, Exter...</td>\n",
       "      <td>1903</td>\n",
       "      <td>Graphite, color pencil, ink, and gouache on tr...</td>\n",
       "      <td>Architecture</td>\n",
       "      <td>Architecture &amp; Design</td>\n",
       "      <td>1997-01-15</td>\n",
       "      <td>38.4000</td>\n",
       "      <td>19.1000</td>\n",
       "      <td>(Male)</td>\n",
       "      <td>(Austrian)</td>\n",
       "      <td>Emil Hoppe</td>\n",
       "    </tr>\n",
       "  </tbody>\n",
       "</table>\n",
       "</div>"
      ],
      "text/plain": [
       "                                               Title  Date  \\\n",
       "0  Ferdinandsbrücke Project, Vienna, Austria (Ele...  1896   \n",
       "1  City of Music, National Superior Conservatory ...  1987   \n",
       "2  Villa near Vienna Project, Outside Vienna, Aus...  1903   \n",
       "3  The Manhattan Transcripts Project, New York, N...  1980   \n",
       "4  Villa, project, outside Vienna, Austria, Exter...  1903   \n",
       "\n",
       "                                              Medium Classification  \\\n",
       "0      Ink and cut-and-pasted painted pages on paper   Architecture   \n",
       "1                  Paint and colored pencil on print   Architecture   \n",
       "2  Graphite, pen, color pencil, ink, and gouache ...   Architecture   \n",
       "3  Photographic reproduction with colored synthet...   Architecture   \n",
       "4  Graphite, color pencil, ink, and gouache on tr...   Architecture   \n",
       "\n",
       "              Department DateAcquired  HeightCm   WidthCm  Gender Nationality  \\\n",
       "0  Architecture & Design   1996-04-09   48.6000  168.9000  (Male)  (Austrian)   \n",
       "1  Architecture & Design   1995-01-17   40.6401   29.8451  (Male)    (French)   \n",
       "2  Architecture & Design   1997-01-15   34.3000   31.8000  (Male)  (Austrian)   \n",
       "3  Architecture & Design   1995-01-17   50.8000   50.8000  (Male)          ()   \n",
       "4  Architecture & Design   1997-01-15   38.4000   19.1000  (Male)  (Austrian)   \n",
       "\n",
       "                     Artist  \n",
       "0               Otto Wagner  \n",
       "1  Christian de Portzamparc  \n",
       "2                Emil Hoppe  \n",
       "3           Bernard Tschumi  \n",
       "4                Emil Hoppe  "
      ]
     },
     "execution_count": 10,
     "metadata": {},
     "output_type": "execute_result"
    }
   ],
   "source": [
    "# Remove old nationality, gender, and artist columns\n",
    "df = df.drop(['Nationality', 'Gender', 'Artist'], axis=1)\n",
    "# Inner join the old and new data frames\n",
    "df = df.join(new_df, how='inner')\n",
    "df.head()"
   ]
  },
  {
   "cell_type": "markdown",
   "metadata": {},
   "source": [
    "Now each contributing artist (and their respective gender and nationality) will have their own row for any given work. Let's take a look at the **Gender** values again so we can see how it has changed."
   ]
  },
  {
   "cell_type": "code",
   "execution_count": 11,
   "metadata": {},
   "outputs": [
    {
     "data": {
      "text/plain": [
       "(Male)          119683\n",
       "(Female)         21304\n",
       "()               11480\n",
       "(male)              30\n",
       "(Non-Binary)        12\n",
       "(female)             2\n",
       "(Non-binary)         1\n",
       "Name: Gender, dtype: int64"
      ]
     },
     "execution_count": 11,
     "metadata": {},
     "output_type": "execute_result"
    }
   ],
   "source": [
    "df['Gender'].value_counts()"
   ]
  },
  {
   "cell_type": "markdown",
   "metadata": {},
   "source": [
    "This is definitely much better! However, it looks like there are some inconsistencies in capitalization. We can fix those easily with the help of the pandas **str.replace** function and regular expressions."
   ]
  },
  {
   "cell_type": "code",
   "execution_count": 12,
   "metadata": {},
   "outputs": [],
   "source": [
    "# Replace (male with (Male\n",
    "df['Gender'] = df['Gender'].str.replace(r'^\\(male', '(Male')\n",
    "# Replace female with Female\n",
    "df['Gender'] = df['Gender'].str.replace('female', 'Female')\n",
    "# Replace Non-binary with Non-Binary\n",
    "df['Gender'] = df['Gender'].str.replace('Non-binary', 'Non-Binary')"
   ]
  },
  {
   "cell_type": "code",
   "execution_count": 13,
   "metadata": {
    "scrolled": true
   },
   "outputs": [
    {
     "data": {
      "text/plain": [
       "(Male)          119713\n",
       "(Female)         21306\n",
       "()               11480\n",
       "(Non-Binary)        13\n",
       "Name: Gender, dtype: int64"
      ]
     },
     "execution_count": 13,
     "metadata": {},
     "output_type": "execute_result"
    }
   ],
   "source": [
    "df['Gender'].value_counts()"
   ]
  },
  {
   "cell_type": "markdown",
   "metadata": {},
   "source": [
    "We will also remove the parentheses in the **Gender** and **Nationality** fields and replace any missing values with **Unspecified**. To do this, we will first need to convert both columns to string types with **astype** since the presence of **nan** in these columns makes them mixed-typed. Then we will use the **map** method to apply a lambda expression that strips off the parentheses and replaces any values of **()** or **nan** with **Unspecified**. You can learn more about lambda expressions [here](https://docs.python.org/3/tutorial/controlflow.html#lambda-expressions)."
   ]
  },
  {
   "cell_type": "code",
   "execution_count": 14,
   "metadata": {},
   "outputs": [],
   "source": [
    "# Convert columns to string type\n",
    "df['Gender'] = df['Gender'].astype(str)\n",
    "df['Nationality'] = df['Nationality'].astype(str)\n",
    "# Strip parentheses and replace missing values with 'Unspecified'\n",
    "df['Gender'] = df['Gender'].map(lambda x: x.lstrip('(').rstrip(')') if x != '()' and x != 'nan' else 'Unspecified')\n",
    "df['Nationality'] = df['Nationality'].map(lambda x: x.lstrip('(').rstrip(')') if x != '()' and x!= 'nan' else 'Unspecified')"
   ]
  },
  {
   "cell_type": "code",
   "execution_count": 15,
   "metadata": {},
   "outputs": [
    {
     "data": {
      "text/plain": [
       "Male           119713\n",
       "Female          21306\n",
       "Unspecified     14466\n",
       "Non-Binary         13\n",
       "Name: Gender, dtype: int64"
      ]
     },
     "execution_count": 15,
     "metadata": {},
     "output_type": "execute_result"
    }
   ],
   "source": [
    "df['Gender'].value_counts()"
   ]
  },
  {
   "cell_type": "markdown",
   "metadata": {},
   "source": [
    "The last thing we want to do is convert the **DateAcquired** field into just a year and not the full date, since we will be conducting our analysis with an annual level of granularity. We will do this with another lambda expression that uses a regular expression to remove the month and day from the **DateAcquired** values. Then we will replace all occurrences of the string **'nan'** with the actual float value **np.nan** and then convert the whole column to the type int. Lastly, we will rename the **DateAcquired** column to **YearAcquired** and the **Date** column to **Year** to better reflect their contents."
   ]
  },
  {
   "cell_type": "code",
   "execution_count": 16,
   "metadata": {},
   "outputs": [
    {
     "data": {
      "text/html": [
       "<div>\n",
       "<style scoped>\n",
       "    .dataframe tbody tr th:only-of-type {\n",
       "        vertical-align: middle;\n",
       "    }\n",
       "\n",
       "    .dataframe tbody tr th {\n",
       "        vertical-align: top;\n",
       "    }\n",
       "\n",
       "    .dataframe thead th {\n",
       "        text-align: right;\n",
       "    }\n",
       "</style>\n",
       "<table border=\"1\" class=\"dataframe\">\n",
       "  <thead>\n",
       "    <tr style=\"text-align: right;\">\n",
       "      <th></th>\n",
       "      <th>Title</th>\n",
       "      <th>Year</th>\n",
       "      <th>Medium</th>\n",
       "      <th>Classification</th>\n",
       "      <th>Department</th>\n",
       "      <th>YearAcquired</th>\n",
       "      <th>HeightCm</th>\n",
       "      <th>WidthCm</th>\n",
       "      <th>Gender</th>\n",
       "      <th>Nationality</th>\n",
       "      <th>Artist</th>\n",
       "    </tr>\n",
       "  </thead>\n",
       "  <tbody>\n",
       "    <tr>\n",
       "      <th>0</th>\n",
       "      <td>Ferdinandsbrücke Project, Vienna, Austria (Ele...</td>\n",
       "      <td>1896</td>\n",
       "      <td>Ink and cut-and-pasted painted pages on paper</td>\n",
       "      <td>Architecture</td>\n",
       "      <td>Architecture &amp; Design</td>\n",
       "      <td>1996</td>\n",
       "      <td>48.6000</td>\n",
       "      <td>168.9000</td>\n",
       "      <td>Male</td>\n",
       "      <td>Austrian</td>\n",
       "      <td>Otto Wagner</td>\n",
       "    </tr>\n",
       "    <tr>\n",
       "      <th>1</th>\n",
       "      <td>City of Music, National Superior Conservatory ...</td>\n",
       "      <td>1987</td>\n",
       "      <td>Paint and colored pencil on print</td>\n",
       "      <td>Architecture</td>\n",
       "      <td>Architecture &amp; Design</td>\n",
       "      <td>1995</td>\n",
       "      <td>40.6401</td>\n",
       "      <td>29.8451</td>\n",
       "      <td>Male</td>\n",
       "      <td>French</td>\n",
       "      <td>Christian de Portzamparc</td>\n",
       "    </tr>\n",
       "    <tr>\n",
       "      <th>2</th>\n",
       "      <td>Villa near Vienna Project, Outside Vienna, Aus...</td>\n",
       "      <td>1903</td>\n",
       "      <td>Graphite, pen, color pencil, ink, and gouache ...</td>\n",
       "      <td>Architecture</td>\n",
       "      <td>Architecture &amp; Design</td>\n",
       "      <td>1997</td>\n",
       "      <td>34.3000</td>\n",
       "      <td>31.8000</td>\n",
       "      <td>Male</td>\n",
       "      <td>Austrian</td>\n",
       "      <td>Emil Hoppe</td>\n",
       "    </tr>\n",
       "    <tr>\n",
       "      <th>3</th>\n",
       "      <td>The Manhattan Transcripts Project, New York, N...</td>\n",
       "      <td>1980</td>\n",
       "      <td>Photographic reproduction with colored synthet...</td>\n",
       "      <td>Architecture</td>\n",
       "      <td>Architecture &amp; Design</td>\n",
       "      <td>1995</td>\n",
       "      <td>50.8000</td>\n",
       "      <td>50.8000</td>\n",
       "      <td>Male</td>\n",
       "      <td>Unspecified</td>\n",
       "      <td>Bernard Tschumi</td>\n",
       "    </tr>\n",
       "    <tr>\n",
       "      <th>4</th>\n",
       "      <td>Villa, project, outside Vienna, Austria, Exter...</td>\n",
       "      <td>1903</td>\n",
       "      <td>Graphite, color pencil, ink, and gouache on tr...</td>\n",
       "      <td>Architecture</td>\n",
       "      <td>Architecture &amp; Design</td>\n",
       "      <td>1997</td>\n",
       "      <td>38.4000</td>\n",
       "      <td>19.1000</td>\n",
       "      <td>Male</td>\n",
       "      <td>Austrian</td>\n",
       "      <td>Emil Hoppe</td>\n",
       "    </tr>\n",
       "  </tbody>\n",
       "</table>\n",
       "</div>"
      ],
      "text/plain": [
       "                                               Title  Year  \\\n",
       "0  Ferdinandsbrücke Project, Vienna, Austria (Ele...  1896   \n",
       "1  City of Music, National Superior Conservatory ...  1987   \n",
       "2  Villa near Vienna Project, Outside Vienna, Aus...  1903   \n",
       "3  The Manhattan Transcripts Project, New York, N...  1980   \n",
       "4  Villa, project, outside Vienna, Austria, Exter...  1903   \n",
       "\n",
       "                                              Medium Classification  \\\n",
       "0      Ink and cut-and-pasted painted pages on paper   Architecture   \n",
       "1                  Paint and colored pencil on print   Architecture   \n",
       "2  Graphite, pen, color pencil, ink, and gouache ...   Architecture   \n",
       "3  Photographic reproduction with colored synthet...   Architecture   \n",
       "4  Graphite, color pencil, ink, and gouache on tr...   Architecture   \n",
       "\n",
       "              Department  YearAcquired  HeightCm   WidthCm Gender  \\\n",
       "0  Architecture & Design          1996   48.6000  168.9000   Male   \n",
       "1  Architecture & Design          1995   40.6401   29.8451   Male   \n",
       "2  Architecture & Design          1997   34.3000   31.8000   Male   \n",
       "3  Architecture & Design          1995   50.8000   50.8000   Male   \n",
       "4  Architecture & Design          1997   38.4000   19.1000   Male   \n",
       "\n",
       "   Nationality                    Artist  \n",
       "0     Austrian               Otto Wagner  \n",
       "1       French  Christian de Portzamparc  \n",
       "2     Austrian                Emil Hoppe  \n",
       "3  Unspecified           Bernard Tschumi  \n",
       "4     Austrian                Emil Hoppe  "
      ]
     },
     "execution_count": 16,
     "metadata": {},
     "output_type": "execute_result"
    }
   ],
   "source": [
    "# Remove month and day values from the date acquired\n",
    "df['DateAcquired'] = df['DateAcquired'].map(lambda x: re.sub(r'-\\d*-\\d*$', '', str(x)))\n",
    "# Replace 'nan' with np.nan\n",
    "df['DateAcquired'] = df['DateAcquired'].map(lambda x: int(x) if x != 'nan' else np.nan)\n",
    "# Convert column to int type\n",
    "df['DateAcquired'] = df['DateAcquired'].astype('Int64')\n",
    "# Rename columns\n",
    "df.rename({'DateAcquired': 'YearAcquired', 'Date': 'Year'}, axis=1, inplace=True)\n",
    "df.head()"
   ]
  },
  {
   "cell_type": "markdown",
   "metadata": {},
   "source": [
    "## Exploratory Data Analysis\n",
    "Now that our data is all cleaned up we can begin to explore it with some visualizations. \n",
    "\n",
    "Let's start with a basic visualization of the ratio of each **Gender** value represented in the MoMA's collection. To do this, we we will use the pandas **groupby** and **size** methods to get the number of works for each **Gender**. Then we will then use matplotlib to create a pie chart. "
   ]
  },
  {
   "cell_type": "code",
   "execution_count": 17,
   "metadata": {},
   "outputs": [
    {
     "data": {
      "image/png": "[encoded data removed]",
      "text/plain": [
       "<Figure size 1440x720 with 1 Axes>"
      ]
     },
     "metadata": {},
     "output_type": "display_data"
    }
   ],
   "source": [
    "# Group the data by Gender and get the size of each group\n",
    "data = df.groupby('Gender').size()\n",
    "# Set the size of the plot \n",
    "plt.figure(figsize=(20,10))\n",
    "# Make pie chart\n",
    "data.plot.pie(autopct=\"%.3f%%\",labels=None,label='',legend=True)\n",
    "plt.title('Gender of Artists')\n",
    "plt.show()"
   ]
  },
  {
   "cell_type": "markdown",
   "metadata": {},
   "source": [
    "From this we can see that the MoMA's collection is about 77% male overall, with the remaining 23% comprised of female, non-binary, and gender-unspecified artists. This is somewhat of an improvement over the previously mentioned nationwide museum study that found 87% of artists in museums to be male. \n",
    "\n",
    "Let's see if this ratio changes when we examine only the 90th percentile of works in terms of size. To do this, we will first add a field to our data frame for the **Area** of a work. "
   ]
  },
  {
   "cell_type": "code",
   "execution_count": 18,
   "metadata": {},
   "outputs": [],
   "source": [
    "df['Area'] = df['HeightCm'] * df['WidthCm']"
   ]
  },
  {
   "cell_type": "markdown",
   "metadata": {},
   "source": [
    "Now we will use the pandas **qcut** function to make 10 discrete quantiles out of the **Area** values. This gets added to the data frame as a new column, **AreaBin**."
   ]
  },
  {
   "cell_type": "code",
   "execution_count": 19,
   "metadata": {},
   "outputs": [
    {
     "data": {
      "text/html": [
       "<div>\n",
       "<style scoped>\n",
       "    .dataframe tbody tr th:only-of-type {\n",
       "        vertical-align: middle;\n",
       "    }\n",
       "\n",
       "    .dataframe tbody tr th {\n",
       "        vertical-align: top;\n",
       "    }\n",
       "\n",
       "    .dataframe thead th {\n",
       "        text-align: right;\n",
       "    }\n",
       "</style>\n",
       "<table border=\"1\" class=\"dataframe\">\n",
       "  <thead>\n",
       "    <tr style=\"text-align: right;\">\n",
       "      <th></th>\n",
       "      <th>Title</th>\n",
       "      <th>Year</th>\n",
       "      <th>Medium</th>\n",
       "      <th>Classification</th>\n",
       "      <th>Department</th>\n",
       "      <th>...</th>\n",
       "      <th>Gender</th>\n",
       "      <th>Nationality</th>\n",
       "      <th>Artist</th>\n",
       "      <th>Area</th>\n",
       "      <th>AreaBin</th>\n",
       "    </tr>\n",
       "  </thead>\n",
       "  <tbody>\n",
       "    <tr>\n",
       "      <th>0</th>\n",
       "      <td>Ferdinandsbrücke Project, Vienna, Austria (Ele...</td>\n",
       "      <td>1896</td>\n",
       "      <td>Ink and cut-and-pasted painted pages on paper</td>\n",
       "      <td>Architecture</td>\n",
       "      <td>Architecture &amp; Design</td>\n",
       "      <td>...</td>\n",
       "      <td>Male</td>\n",
       "      <td>Austrian</td>\n",
       "      <td>Otto Wagner</td>\n",
       "      <td>8208.540000</td>\n",
       "      <td>(4996.0, 10033711.0]</td>\n",
       "    </tr>\n",
       "    <tr>\n",
       "      <th>1</th>\n",
       "      <td>City of Music, National Superior Conservatory ...</td>\n",
       "      <td>1987</td>\n",
       "      <td>Paint and colored pencil on print</td>\n",
       "      <td>Architecture</td>\n",
       "      <td>Architecture &amp; Design</td>\n",
       "      <td>...</td>\n",
       "      <td>Male</td>\n",
       "      <td>French</td>\n",
       "      <td>Christian de Portzamparc</td>\n",
       "      <td>1212.907849</td>\n",
       "      <td>(929.0, 1420.0]</td>\n",
       "    </tr>\n",
       "    <tr>\n",
       "      <th>2</th>\n",
       "      <td>Villa near Vienna Project, Outside Vienna, Aus...</td>\n",
       "      <td>1903</td>\n",
       "      <td>Graphite, pen, color pencil, ink, and gouache ...</td>\n",
       "      <td>Architecture</td>\n",
       "      <td>Architecture &amp; Design</td>\n",
       "      <td>...</td>\n",
       "      <td>Male</td>\n",
       "      <td>Austrian</td>\n",
       "      <td>Emil Hoppe</td>\n",
       "      <td>1090.740000</td>\n",
       "      <td>(929.0, 1420.0]</td>\n",
       "    </tr>\n",
       "    <tr>\n",
       "      <th>3</th>\n",
       "      <td>The Manhattan Transcripts Project, New York, N...</td>\n",
       "      <td>1980</td>\n",
       "      <td>Photographic reproduction with colored synthet...</td>\n",
       "      <td>Architecture</td>\n",
       "      <td>Architecture &amp; Design</td>\n",
       "      <td>...</td>\n",
       "      <td>Male</td>\n",
       "      <td>Unspecified</td>\n",
       "      <td>Bernard Tschumi</td>\n",
       "      <td>2580.640000</td>\n",
       "      <td>(2477.0, 4996.0]</td>\n",
       "    </tr>\n",
       "    <tr>\n",
       "      <th>4</th>\n",
       "      <td>Villa, project, outside Vienna, Austria, Exter...</td>\n",
       "      <td>1903</td>\n",
       "      <td>Graphite, color pencil, ink, and gouache on tr...</td>\n",
       "      <td>Architecture</td>\n",
       "      <td>Architecture &amp; Design</td>\n",
       "      <td>...</td>\n",
       "      <td>Male</td>\n",
       "      <td>Austrian</td>\n",
       "      <td>Emil Hoppe</td>\n",
       "      <td>733.440000</td>\n",
       "      <td>(672.0, 929.0]</td>\n",
       "    </tr>\n",
       "  </tbody>\n",
       "</table>\n",
       "<p>5 rows × 13 columns</p>\n",
       "</div>"
      ],
      "text/plain": [
       "                                               Title  Year  \\\n",
       "0  Ferdinandsbrücke Project, Vienna, Austria (Ele...  1896   \n",
       "1  City of Music, National Superior Conservatory ...  1987   \n",
       "2  Villa near Vienna Project, Outside Vienna, Aus...  1903   \n",
       "3  The Manhattan Transcripts Project, New York, N...  1980   \n",
       "4  Villa, project, outside Vienna, Austria, Exter...  1903   \n",
       "\n",
       "                                              Medium Classification  \\\n",
       "0      Ink and cut-and-pasted painted pages on paper   Architecture   \n",
       "1                  Paint and colored pencil on print   Architecture   \n",
       "2  Graphite, pen, color pencil, ink, and gouache ...   Architecture   \n",
       "3  Photographic reproduction with colored synthet...   Architecture   \n",
       "4  Graphite, color pencil, ink, and gouache on tr...   Architecture   \n",
       "\n",
       "              Department  ...  Gender  Nationality                    Artist  \\\n",
       "0  Architecture & Design  ...    Male     Austrian               Otto Wagner   \n",
       "1  Architecture & Design  ...    Male       French  Christian de Portzamparc   \n",
       "2  Architecture & Design  ...    Male     Austrian                Emil Hoppe   \n",
       "3  Architecture & Design  ...    Male  Unspecified           Bernard Tschumi   \n",
       "4  Architecture & Design  ...    Male     Austrian                Emil Hoppe   \n",
       "\n",
       "          Area               AreaBin  \n",
       "0  8208.540000  (4996.0, 10033711.0]  \n",
       "1  1212.907849       (929.0, 1420.0]  \n",
       "2  1090.740000       (929.0, 1420.0]  \n",
       "3  2580.640000      (2477.0, 4996.0]  \n",
       "4   733.440000        (672.0, 929.0]  \n",
       "\n",
       "[5 rows x 13 columns]"
      ]
     },
     "execution_count": 19,
     "metadata": {},
     "output_type": "execute_result"
    }
   ],
   "source": [
    "df['AreaBin'] = pd.qcut(df['Area'], q=10, precision=0)\n",
    "df.head()"
   ]
  },
  {
   "cell_type": "markdown",
   "metadata": {},
   "source": [
    "We can view the **AreaBins** that pandas has made for us with **value_counts**. Note that each bin has approximately the same membership."
   ]
  },
  {
   "cell_type": "code",
   "execution_count": 20,
   "metadata": {},
   "outputs": [
    {
     "data": {
      "text/plain": [
       "(397.0, 516.0]          13446\n",
       "(672.0, 929.0]          13311\n",
       "(253.0, 397.0]          13308\n",
       "(2477.0, 4996.0]        13304\n",
       "(-1.0, 121.0]           13298\n",
       "(1420.0, 2477.0]        13293\n",
       "(121.0, 253.0]          13289\n",
       "(4996.0, 10033711.0]    13283\n",
       "(929.0, 1420.0]         13276\n",
       "(516.0, 672.0]          13126\n",
       "Name: AreaBin, dtype: int64"
      ]
     },
     "execution_count": 20,
     "metadata": {},
     "output_type": "execute_result"
    }
   ],
   "source": [
    "df['AreaBin'].value_counts()"
   ]
  },
  {
   "cell_type": "markdown",
   "metadata": {},
   "source": [
    "The bin for the largest works spans 4997-10033711 square centimeters. We will use this to retrieve the works with areas in that range, group them by gender, compute the group size, and then make a pie chart. This will show us the ratio of works in the 90th percentile of size. "
   ]
  },
  {
   "cell_type": "code",
   "execution_count": 21,
   "metadata": {},
   "outputs": [
    {
     "data": {
      "image/png": "[encoded data removed]",
      "text/plain": [
       "<Figure size 1440x720 with 1 Axes>"
      ]
     },
     "metadata": {},
     "output_type": "display_data"
    }
   ],
   "source": [
    "# Group the data in range by Gender and get the size of each group\n",
    "data = df[(df['Area'] > 4996) & (df['Area'] <= 10033711)].groupby('Gender').size()\n",
    "# Set the size of the plot \n",
    "plt.figure(figsize=(20,10))\n",
    "# Make pie chart\n",
    "data.plot.pie(autopct=\"%.3f%%\",labels=None,label='',legend=True)\n",
    "plt.title('Gender of Artists - Top 10% of Largest Works')\n",
    "plt.show()"
   ]
  },
  {
   "cell_type": "markdown",
   "metadata": {},
   "source": [
    "The ratio is *slightly* improved for female artists, but overall a majority of the MoMA's largest works are by by male artists. We can see below that this holds true across all of the **AreaBins**.\n",
    "\n",
    "Below, we group the data by **AreaBin** and **Gender** and compute the **size** of each group. Then we reset the index and pivot the data frame such that our new index is the **AreaBin** and our columns are the count for each **Gender**."
   ]
  },
  {
   "cell_type": "code",
   "execution_count": 22,
   "metadata": {},
   "outputs": [],
   "source": [
    "data = df.groupby(['AreaBin', 'Gender']).size().reset_index().pivot(columns='Gender',index='AreaBin',values=0)"
   ]
  },
  {
   "cell_type": "markdown",
   "metadata": {},
   "source": [
    "Now we can make a stacked bar plot from this data to visualize the ratio across all 10 **AreaBin** values."
   ]
  },
  {
   "cell_type": "code",
   "execution_count": 23,
   "metadata": {},
   "outputs": [
    {
     "data": {
      "image/png": "[encoded data removed]",
      "text/plain": [
       "<Figure size 1440x720 with 1 Axes>"
      ]
     },
     "metadata": {
      "needs_background": "light"
     },
     "output_type": "display_data"
    }
   ],
   "source": [
    "# Stacked bar plot of AreaBins\n",
    "data.plot.bar(stacked=True, figsize=(20,10))\n",
    "plt.title('Number of Works per Area Bin by Gender')\n",
    "plt.xlabel('Area Bin (cm)')\n",
    "plt.ylabel('Number of Works')\n",
    "plt.show()"
   ]
  },
  {
   "cell_type": "markdown",
   "metadata": {},
   "source": [
    "\n",
    "Let's also take a look at how each **Gender** breaks down by **Department**. First, let's look at the different values in the **Department** field using **value_counts**."
   ]
  },
  {
   "cell_type": "code",
   "execution_count": 24,
   "metadata": {},
   "outputs": [
    {
     "data": {
      "text/plain": [
       "Drawings & Prints                        83713\n",
       "Photography                              34078\n",
       "Architecture & Design                    26358\n",
       "Painting & Sculpture                      3957\n",
       "Media and Performance                     3496\n",
       "Film                                      1986\n",
       "Fluxus Collection                         1876\n",
       "Architecture & Design - Image Archive       34\n",
       "Name: Department, dtype: int64"
      ]
     },
     "execution_count": 24,
     "metadata": {},
     "output_type": "execute_result"
    }
   ],
   "source": [
    "df['Department'].value_counts()"
   ]
  },
  {
   "cell_type": "markdown",
   "metadata": {},
   "source": [
    "It looks like there are two different **Architecture & Design** categories. Let's merge these two into one category with **str.replace**."
   ]
  },
  {
   "cell_type": "code",
   "execution_count": 25,
   "metadata": {},
   "outputs": [],
   "source": [
    "df['Department'] = df['Department'].str.replace('Architecture & Design - Image Archive', 'Architecture & Design')"
   ]
  },
  {
   "cell_type": "markdown",
   "metadata": {},
   "source": [
    "Now let's make one pie chart for each gender category to show the proportion of works belonging to each of the 7 departments. To do this, we will first make sub-frames for each gender category. Then we will again use the pandas **groupby** and **size** methods to get the number of works for each **Department**. Then we will then use matplotlib to display the data as a pie chart."
   ]
  },
  {
   "cell_type": "code",
   "execution_count": 26,
   "metadata": {
    "scrolled": false
   },
   "outputs": [
    {
     "data": {
      "text/plain": [
       "<Figure size 432x288 with 0 Axes>"
      ]
     },
     "metadata": {},
     "output_type": "display_data"
    },
    {
     "data": {
      "image/png": "[encoded data removed]",
      "text/plain": [
       "<Figure size 1440x720 with 1 Axes>"
      ]
     },
     "metadata": {},
     "output_type": "display_data"
    },
    {
     "data": {
      "image/png": "[encoded data removed]",
      "text/plain": [
       "<Figure size 1440x720 with 1 Axes>"
      ]
     },
     "metadata": {},
     "output_type": "display_data"
    },
    {
     "data": {
      "image/png": "[encoded data removed]",
      "text/plain": [
       "<Figure size 1440x720 with 1 Axes>"
      ]
     },
     "metadata": {},
     "output_type": "display_data"
    },
    {
     "data": {
      "image/png": "[encoded data removed]",
      "text/plain": [
       "<Figure size 1440x720 with 1 Axes>"
      ]
     },
     "metadata": {},
     "output_type": "display_data"
    }
   ],
   "source": [
    "# Pie chart for male artists \n",
    "plt.figure(0)\n",
    "# Make sub-data-frame of only works by male artists\n",
    "male = df[df['Gender'] == 'Male']\n",
    "# Group the data by Department and get the size of each group\n",
    "data = male.groupby('Department').size()\n",
    "# Make pie chart\n",
    "plt.figure(figsize=(20,10))\n",
    "data.plot.pie(autopct=\"%.3f%%\",labels=None,label='',legend=True)\n",
    "plt.title('Male Artist Departments')\n",
    "\n",
    "# Pie chart for female artists\n",
    "plt.figure(1)\n",
    "fem = df[df['Gender'] == 'Female']\n",
    "data = fem.groupby('Department').size()\n",
    "plt.figure(figsize=(20,10))\n",
    "data.plot.pie(autopct=\"%.3f%%\",labels=None,label='',legend=True)\n",
    "plt.title('Female Artist Departments')\n",
    "\n",
    "# Pie chart for Non-Binary artists\n",
    "plt.figure(2)\n",
    "nb = df[df['Gender'] == 'Non-Binary']\n",
    "data = nb.groupby('Department').size()\n",
    "plt.figure(figsize=(20,10))\n",
    "data.plot.pie(autopct=\"%.3f%%\",labels=None,label='',legend=True)\n",
    "plt.title('Non-Binary Artist Departments')\n",
    "\n",
    "# Pie chart for gender-unspecified artists\n",
    "plt.figure(3)\n",
    "unsp = df[df['Gender'] == 'Unspecified']\n",
    "data = unsp.groupby('Department').size()\n",
    "plt.figure(figsize=(20,10))\n",
    "data.plot.pie(autopct=\"%.3f%%\",labels=None,label='',legend=True)\n",
    "plt.title('Gender-Unspecified Artist Departments')\n",
    "\n",
    "plt.show()"
   ]
  },
  {
   "cell_type": "markdown",
   "metadata": {},
   "source": [
    "It appears that male and female artists have similar proportions of work across the 7 different departments: Just over 1/2 of male and female artworks are drawings and prints, about 1/5 are photographs, about 1/6 are architecture and design, and what remains is a mix of the other 4 departments. Although these proportions are similar, we saw in the first pie chart that there is 6x more works by male artists than female artists, so it is far from equal. \n",
    "\n",
    "Let's turn now to examining the number of acquisitions over time. To do this we will **groupby** the **YearAcquired** field and use the **size** method to get the number of works acquired in each year."
   ]
  },
  {
   "cell_type": "code",
   "execution_count": 27,
   "metadata": {},
   "outputs": [
    {
     "data": {
      "text/plain": [
       "YearAcquired\n",
       "1929       9\n",
       "1930       7\n",
       "1931       3\n",
       "1932      19\n",
       "1933      93\n",
       "        ... \n",
       "2016    2276\n",
       "2017    1867\n",
       "2018    2742\n",
       "2019    1768\n",
       "2020     229\n",
       "Length: 92, dtype: int64"
      ]
     },
     "execution_count": 27,
     "metadata": {},
     "output_type": "execute_result"
    }
   ],
   "source": [
    "# Group the data by YearAcquired and get the size of each group\n",
    "acq_per_year = df[df['YearAcquired'].notnull()].groupby('YearAcquired').size()\n",
    "acq_per_year"
   ]
  },
  {
   "cell_type": "markdown",
   "metadata": {},
   "source": [
    "Now we will use **matplotlib** and the **seaborn scatterplot** function to create a scatter plot of year vs number of works acquired in that year."
   ]
  },
  {
   "cell_type": "code",
   "execution_count": 28,
   "metadata": {},
   "outputs": [
    {
     "data": {
      "image/png": "[encoded data removed]",
      "text/plain": [
       "<Figure size 432x288 with 1 Axes>"
      ]
     },
     "metadata": {
      "needs_background": "light"
     },
     "output_type": "display_data"
    }
   ],
   "source": [
    "# Scatter plot of works acquired per year\n",
    "sns.scatterplot(data=acq_per_year)\n",
    "plt.title('Number of Works Acquired per Year')\n",
    "plt.xlabel('Year')\n",
    "plt.ylabel('Number of Works')\n",
    "plt.show()"
   ]
  },
  {
   "cell_type": "markdown",
   "metadata": {},
   "source": [
    "A visual inspection of this scatterplot suggests that there is a postive trend to this data. In other words as time goes on, the MoMA is acquiring more works per year. Let's break it down by gender to see if they are also aquiring more works by female artists per year. \n",
    "\n",
    "To do this we **groupby** both the **YearAcquired** and **Gender** fields, compute the **size** of each of these year/gender combinations, and convert to a data frame with the **to_frame** method. Then we reset the index and set the name of our new field containing the number of works acquired for that gender/year to **NumWorks**."
   ]
  },
  {
   "cell_type": "code",
   "execution_count": 29,
   "metadata": {},
   "outputs": [
    {
     "data": {
      "text/html": [
       "<div>\n",
       "<style scoped>\n",
       "    .dataframe tbody tr th:only-of-type {\n",
       "        vertical-align: middle;\n",
       "    }\n",
       "\n",
       "    .dataframe tbody tr th {\n",
       "        vertical-align: top;\n",
       "    }\n",
       "\n",
       "    .dataframe thead th {\n",
       "        text-align: right;\n",
       "    }\n",
       "</style>\n",
       "<table border=\"1\" class=\"dataframe\">\n",
       "  <thead>\n",
       "    <tr style=\"text-align: right;\">\n",
       "      <th></th>\n",
       "      <th></th>\n",
       "      <th>NumWorks</th>\n",
       "    </tr>\n",
       "    <tr>\n",
       "      <th>YearAcquired</th>\n",
       "      <th>Gender</th>\n",
       "      <th></th>\n",
       "    </tr>\n",
       "  </thead>\n",
       "  <tbody>\n",
       "    <tr>\n",
       "      <th>1929</th>\n",
       "      <th>Male</th>\n",
       "      <td>9</td>\n",
       "    </tr>\n",
       "    <tr>\n",
       "      <th>1930</th>\n",
       "      <th>Male</th>\n",
       "      <td>7</td>\n",
       "    </tr>\n",
       "    <tr>\n",
       "      <th>1931</th>\n",
       "      <th>Male</th>\n",
       "      <td>3</td>\n",
       "    </tr>\n",
       "    <tr>\n",
       "      <th rowspan=\"2\" valign=\"top\">1932</th>\n",
       "      <th>Female</th>\n",
       "      <td>1</td>\n",
       "    </tr>\n",
       "    <tr>\n",
       "      <th>Male</th>\n",
       "      <td>18</td>\n",
       "    </tr>\n",
       "    <tr>\n",
       "      <th>...</th>\n",
       "      <th>...</th>\n",
       "      <td>...</td>\n",
       "    </tr>\n",
       "    <tr>\n",
       "      <th>2019</th>\n",
       "      <th>Unspecified</th>\n",
       "      <td>330</td>\n",
       "    </tr>\n",
       "    <tr>\n",
       "      <th rowspan=\"4\" valign=\"top\">2020</th>\n",
       "      <th>Female</th>\n",
       "      <td>56</td>\n",
       "    </tr>\n",
       "    <tr>\n",
       "      <th>Male</th>\n",
       "      <td>165</td>\n",
       "    </tr>\n",
       "    <tr>\n",
       "      <th>Non-Binary</th>\n",
       "      <td>1</td>\n",
       "    </tr>\n",
       "    <tr>\n",
       "      <th>Unspecified</th>\n",
       "      <td>7</td>\n",
       "    </tr>\n",
       "  </tbody>\n",
       "</table>\n",
       "<p>273 rows × 1 columns</p>\n",
       "</div>"
      ],
      "text/plain": [
       "                          NumWorks\n",
       "YearAcquired Gender               \n",
       "1929         Male                9\n",
       "1930         Male                7\n",
       "1931         Male                3\n",
       "1932         Female              1\n",
       "             Male               18\n",
       "...                            ...\n",
       "2019         Unspecified       330\n",
       "2020         Female             56\n",
       "             Male              165\n",
       "             Non-Binary          1\n",
       "             Unspecified         7\n",
       "\n",
       "[273 rows x 1 columns]"
      ]
     },
     "execution_count": 29,
     "metadata": {},
     "output_type": "execute_result"
    }
   ],
   "source": [
    "# Group the data by YearAcquired and Gender, get the size of each group, convert to data frame\n",
    "acq_per_year = df[df['YearAcquired'].notnull()].groupby(['YearAcquired', 'Gender']).size().to_frame()\n",
    "# Reset the data frame index\n",
    "acq_per_year.reset_index()\n",
    "# Rename new field\n",
    "acq_per_year.rename({0: 'NumWorks'}, axis=1, inplace=True)\n",
    "acq_per_year"
   ]
  },
  {
   "cell_type": "markdown",
   "metadata": {},
   "source": [
    "Now we will use matplotlib and the seaborn scatterplot function to create a scatter plot of year vs number of works acquired in that year, this time setting **hue='Gender'** so that each gender category is colored differently. "
   ]
  },
  {
   "cell_type": "code",
   "execution_count": 30,
   "metadata": {},
   "outputs": [
    {
     "data": {
      "image/png": "[encoded data removed]",
      "text/plain": [
       "<Figure size 1440x720 with 1 Axes>"
      ]
     },
     "metadata": {
      "needs_background": "light"
     },
     "output_type": "display_data"
    }
   ],
   "source": [
    "# Scatter plot of works acquired per year by Gender\n",
    "plt.figure(figsize=(20,10))\n",
    "ax = sns.scatterplot(data=acq_per_year, x='YearAcquired', y='NumWorks', hue='Gender')\n",
    "plt.title('Number of Works Acquired per Year')\n",
    "plt.xlabel('Year')\n",
    "plt.ylabel('Number of Works')\n",
    "plt.show()"
   ]
  },
  {
   "cell_type": "markdown",
   "metadata": {},
   "source": [
    "Based on a visual inspection, there is a significant amount of variation over time and it's hard to define a particular trend in acquisition. Let's look at our question of acquisition from a different angle by investigating the cumulative number of works in the collection over time. Let's first look at the cumulative number of works overall before breaking it down by gender category.\n",
    "\n",
    "To do this, we will follow steps similar to how we made the **acq_per_year** data frame. This time, however, we will only **groupby** the **YearAcquired**. We will also add an additional column called **sum** and populate it with the cumulative sum of works in the collection over time using the pandas **cumsum** method."
   ]
  },
  {
   "cell_type": "code",
   "execution_count": 31,
   "metadata": {},
   "outputs": [
    {
     "data": {
      "text/html": [
       "<div>\n",
       "<style scoped>\n",
       "    .dataframe tbody tr th:only-of-type {\n",
       "        vertical-align: middle;\n",
       "    }\n",
       "\n",
       "    .dataframe tbody tr th {\n",
       "        vertical-align: top;\n",
       "    }\n",
       "\n",
       "    .dataframe thead th {\n",
       "        text-align: right;\n",
       "    }\n",
       "</style>\n",
       "<table border=\"1\" class=\"dataframe\">\n",
       "  <thead>\n",
       "    <tr style=\"text-align: right;\">\n",
       "      <th></th>\n",
       "      <th>NumWorks</th>\n",
       "      <th>sum</th>\n",
       "    </tr>\n",
       "    <tr>\n",
       "      <th>YearAcquired</th>\n",
       "      <th></th>\n",
       "      <th></th>\n",
       "    </tr>\n",
       "  </thead>\n",
       "  <tbody>\n",
       "    <tr>\n",
       "      <th>1929</th>\n",
       "      <td>9</td>\n",
       "      <td>9</td>\n",
       "    </tr>\n",
       "    <tr>\n",
       "      <th>1930</th>\n",
       "      <td>7</td>\n",
       "      <td>16</td>\n",
       "    </tr>\n",
       "    <tr>\n",
       "      <th>1931</th>\n",
       "      <td>3</td>\n",
       "      <td>19</td>\n",
       "    </tr>\n",
       "    <tr>\n",
       "      <th>1932</th>\n",
       "      <td>19</td>\n",
       "      <td>38</td>\n",
       "    </tr>\n",
       "    <tr>\n",
       "      <th>1933</th>\n",
       "      <td>93</td>\n",
       "      <td>131</td>\n",
       "    </tr>\n",
       "    <tr>\n",
       "      <th>...</th>\n",
       "      <td>...</td>\n",
       "      <td>...</td>\n",
       "    </tr>\n",
       "    <tr>\n",
       "      <th>2016</th>\n",
       "      <td>2276</td>\n",
       "      <td>141131</td>\n",
       "    </tr>\n",
       "    <tr>\n",
       "      <th>2017</th>\n",
       "      <td>1867</td>\n",
       "      <td>142998</td>\n",
       "    </tr>\n",
       "    <tr>\n",
       "      <th>2018</th>\n",
       "      <td>2742</td>\n",
       "      <td>145740</td>\n",
       "    </tr>\n",
       "    <tr>\n",
       "      <th>2019</th>\n",
       "      <td>1768</td>\n",
       "      <td>147508</td>\n",
       "    </tr>\n",
       "    <tr>\n",
       "      <th>2020</th>\n",
       "      <td>229</td>\n",
       "      <td>147737</td>\n",
       "    </tr>\n",
       "  </tbody>\n",
       "</table>\n",
       "<p>92 rows × 2 columns</p>\n",
       "</div>"
      ],
      "text/plain": [
       "              NumWorks     sum\n",
       "YearAcquired                  \n",
       "1929                 9       9\n",
       "1930                 7      16\n",
       "1931                 3      19\n",
       "1932                19      38\n",
       "1933                93     131\n",
       "...                ...     ...\n",
       "2016              2276  141131\n",
       "2017              1867  142998\n",
       "2018              2742  145740\n",
       "2019              1768  147508\n",
       "2020               229  147737\n",
       "\n",
       "[92 rows x 2 columns]"
      ]
     },
     "execution_count": 31,
     "metadata": {},
     "output_type": "execute_result"
    }
   ],
   "source": [
    "# Group the data by YearAcquired, get the size of each group, convert to data frame\n",
    "cumulative = df.groupby('YearAcquired').size().to_frame()\n",
    "# Reset the data frame index\n",
    "cumulative.reset_index()\n",
    "# Rename new field\n",
    "cumulative.rename({0: 'NumWorks'}, axis=1, inplace=True)\n",
    "# Add another new field for the cumulative sum\n",
    "cumulative['sum'] = cumulative.NumWorks.cumsum()\n",
    "cumulative"
   ]
  },
  {
   "cell_type": "markdown",
   "metadata": {},
   "source": [
    "Now we can use matplotlib and the seaborn scatterplot function to create a scatter plot of year vs the cumulative number of works in the MoMA's collection."
   ]
  },
  {
   "cell_type": "code",
   "execution_count": 32,
   "metadata": {},
   "outputs": [
    {
     "data": {
      "image/png": "[encoded data removed]",
      "text/plain": [
       "<Figure size 432x288 with 1 Axes>"
      ]
     },
     "metadata": {
      "needs_background": "light"
     },
     "output_type": "display_data"
    }
   ],
   "source": [
    "# Scatter plot of cumulative number of works in the collection\n",
    "sns.scatterplot(data=cumulative, x='YearAcquired', y='sum')\n",
    "plt.title('Cumulative Number of Works')\n",
    "plt.xlabel('Year')\n",
    "plt.ylabel('Number of Works')\n",
    "plt.show()"
   ]
  },
  {
   "cell_type": "markdown",
   "metadata": {},
   "source": [
    "Visual inspection suggests that there is a positive trend in accumulation of works that is mostly linear. In other words, the MoMA's collection has grown at a constant rate over time. Let's see if this is true for both male and female artists as well.\n",
    "\n",
    "We will start with the male artists. For this we will use our sub data frame that we made above that contains only the works by male artists. We will follow the same steps that we did in creating the overall **cumulative** data frame."
   ]
  },
  {
   "cell_type": "code",
   "execution_count": 33,
   "metadata": {},
   "outputs": [
    {
     "data": {
      "text/html": [
       "<div>\n",
       "<style scoped>\n",
       "    .dataframe tbody tr th:only-of-type {\n",
       "        vertical-align: middle;\n",
       "    }\n",
       "\n",
       "    .dataframe tbody tr th {\n",
       "        vertical-align: top;\n",
       "    }\n",
       "\n",
       "    .dataframe thead th {\n",
       "        text-align: right;\n",
       "    }\n",
       "</style>\n",
       "<table border=\"1\" class=\"dataframe\">\n",
       "  <thead>\n",
       "    <tr style=\"text-align: right;\">\n",
       "      <th></th>\n",
       "      <th>NumWorks</th>\n",
       "      <th>sum</th>\n",
       "    </tr>\n",
       "    <tr>\n",
       "      <th>YearAcquired</th>\n",
       "      <th></th>\n",
       "      <th></th>\n",
       "    </tr>\n",
       "  </thead>\n",
       "  <tbody>\n",
       "    <tr>\n",
       "      <th>1929</th>\n",
       "      <td>9</td>\n",
       "      <td>9</td>\n",
       "    </tr>\n",
       "    <tr>\n",
       "      <th>1930</th>\n",
       "      <td>7</td>\n",
       "      <td>16</td>\n",
       "    </tr>\n",
       "    <tr>\n",
       "      <th>1931</th>\n",
       "      <td>3</td>\n",
       "      <td>19</td>\n",
       "    </tr>\n",
       "    <tr>\n",
       "      <th>1932</th>\n",
       "      <td>18</td>\n",
       "      <td>37</td>\n",
       "    </tr>\n",
       "    <tr>\n",
       "      <th>1933</th>\n",
       "      <td>93</td>\n",
       "      <td>130</td>\n",
       "    </tr>\n",
       "    <tr>\n",
       "      <th>...</th>\n",
       "      <td>...</td>\n",
       "      <td>...</td>\n",
       "    </tr>\n",
       "    <tr>\n",
       "      <th>2016</th>\n",
       "      <td>1255</td>\n",
       "      <td>110700</td>\n",
       "    </tr>\n",
       "    <tr>\n",
       "      <th>2017</th>\n",
       "      <td>834</td>\n",
       "      <td>111534</td>\n",
       "    </tr>\n",
       "    <tr>\n",
       "      <th>2018</th>\n",
       "      <td>1539</td>\n",
       "      <td>113073</td>\n",
       "    </tr>\n",
       "    <tr>\n",
       "      <th>2019</th>\n",
       "      <td>1174</td>\n",
       "      <td>114247</td>\n",
       "    </tr>\n",
       "    <tr>\n",
       "      <th>2020</th>\n",
       "      <td>165</td>\n",
       "      <td>114412</td>\n",
       "    </tr>\n",
       "  </tbody>\n",
       "</table>\n",
       "<p>92 rows × 2 columns</p>\n",
       "</div>"
      ],
      "text/plain": [
       "              NumWorks     sum\n",
       "YearAcquired                  \n",
       "1929                 9       9\n",
       "1930                 7      16\n",
       "1931                 3      19\n",
       "1932                18      37\n",
       "1933                93     130\n",
       "...                ...     ...\n",
       "2016              1255  110700\n",
       "2017               834  111534\n",
       "2018              1539  113073\n",
       "2019              1174  114247\n",
       "2020               165  114412\n",
       "\n",
       "[92 rows x 2 columns]"
      ]
     },
     "execution_count": 33,
     "metadata": {},
     "output_type": "execute_result"
    }
   ],
   "source": [
    "# Group the male data by YearAcquired, get the size of each group, convert to data frame\n",
    "cumulative_male = male[male['YearAcquired'].notnull()].groupby('YearAcquired').size().to_frame()\n",
    "# Reset the data frame index\n",
    "cumulative_male.reset_index()\n",
    "# Rename new field\n",
    "cumulative_male.rename({0: 'NumWorks'}, axis=1, inplace=True)\n",
    "# Add another new field for the cumulative sum\n",
    "cumulative_male['sum'] = cumulative_male.NumWorks.cumsum()\n",
    "cumulative_male"
   ]
  },
  {
   "cell_type": "markdown",
   "metadata": {},
   "source": [
    "Now let's do the same thing for female artists."
   ]
  },
  {
   "cell_type": "code",
   "execution_count": 34,
   "metadata": {},
   "outputs": [
    {
     "data": {
      "text/html": [
       "<div>\n",
       "<style scoped>\n",
       "    .dataframe tbody tr th:only-of-type {\n",
       "        vertical-align: middle;\n",
       "    }\n",
       "\n",
       "    .dataframe tbody tr th {\n",
       "        vertical-align: top;\n",
       "    }\n",
       "\n",
       "    .dataframe thead th {\n",
       "        text-align: right;\n",
       "    }\n",
       "</style>\n",
       "<table border=\"1\" class=\"dataframe\">\n",
       "  <thead>\n",
       "    <tr style=\"text-align: right;\">\n",
       "      <th></th>\n",
       "      <th>NumWorks</th>\n",
       "    </tr>\n",
       "    <tr>\n",
       "      <th>YearAcquired</th>\n",
       "      <th></th>\n",
       "    </tr>\n",
       "  </thead>\n",
       "  <tbody>\n",
       "    <tr>\n",
       "      <th>1932</th>\n",
       "      <td>1</td>\n",
       "    </tr>\n",
       "    <tr>\n",
       "      <th>1934</th>\n",
       "      <td>5</td>\n",
       "    </tr>\n",
       "    <tr>\n",
       "      <th>1935</th>\n",
       "      <td>5</td>\n",
       "    </tr>\n",
       "    <tr>\n",
       "      <th>1936</th>\n",
       "      <td>12</td>\n",
       "    </tr>\n",
       "    <tr>\n",
       "      <th>1937</th>\n",
       "      <td>14</td>\n",
       "    </tr>\n",
       "    <tr>\n",
       "      <th>...</th>\n",
       "      <td>...</td>\n",
       "    </tr>\n",
       "    <tr>\n",
       "      <th>2016</th>\n",
       "      <td>766</td>\n",
       "    </tr>\n",
       "    <tr>\n",
       "      <th>2017</th>\n",
       "      <td>377</td>\n",
       "    </tr>\n",
       "    <tr>\n",
       "      <th>2018</th>\n",
       "      <td>812</td>\n",
       "    </tr>\n",
       "    <tr>\n",
       "      <th>2019</th>\n",
       "      <td>264</td>\n",
       "    </tr>\n",
       "    <tr>\n",
       "      <th>2020</th>\n",
       "      <td>56</td>\n",
       "    </tr>\n",
       "  </tbody>\n",
       "</table>\n",
       "<p>88 rows × 1 columns</p>\n",
       "</div>"
      ],
      "text/plain": [
       "              NumWorks\n",
       "YearAcquired          \n",
       "1932                 1\n",
       "1934                 5\n",
       "1935                 5\n",
       "1936                12\n",
       "1937                14\n",
       "...                ...\n",
       "2016               766\n",
       "2017               377\n",
       "2018               812\n",
       "2019               264\n",
       "2020                56\n",
       "\n",
       "[88 rows x 1 columns]"
      ]
     },
     "execution_count": 34,
     "metadata": {},
     "output_type": "execute_result"
    }
   ],
   "source": [
    "# Group the female data by YearAcquired, get the size of each group, convert to data frame\n",
    "cumulative_fem = fem[fem['YearAcquired'].notnull()].groupby('YearAcquired').size().to_frame()\n",
    "# Reset the data frame index\n",
    "cumulative_fem.reset_index()\n",
    "# Rename new field\n",
    "cumulative_fem.rename({0: 'NumWorks'}, axis=1, inplace=True)\n",
    "cumulative_fem"
   ]
  },
  {
   "cell_type": "markdown",
   "metadata": {},
   "source": [
    "Before we apply the **cumsum** method, we need to account for the years in which the MoMA did not acquire any works by female artists. We will do this by iterating through all the years that the MoMA has been in operation (1929-2020) and if there is not an entry present for that year, we will add one with a **NumWorks** value of 0. Then we will sort the index so that the **YearAcquired** field is in order and then we will use **cumsum** to add a field for the cumulative number of works by female artists. "
   ]
  },
  {
   "cell_type": "code",
   "execution_count": 35,
   "metadata": {},
   "outputs": [
    {
     "data": {
      "text/html": [
       "<div>\n",
       "<style scoped>\n",
       "    .dataframe tbody tr th:only-of-type {\n",
       "        vertical-align: middle;\n",
       "    }\n",
       "\n",
       "    .dataframe tbody tr th {\n",
       "        vertical-align: top;\n",
       "    }\n",
       "\n",
       "    .dataframe thead th {\n",
       "        text-align: right;\n",
       "    }\n",
       "</style>\n",
       "<table border=\"1\" class=\"dataframe\">\n",
       "  <thead>\n",
       "    <tr style=\"text-align: right;\">\n",
       "      <th></th>\n",
       "      <th>NumWorks</th>\n",
       "      <th>sum</th>\n",
       "    </tr>\n",
       "    <tr>\n",
       "      <th>YearAcquired</th>\n",
       "      <th></th>\n",
       "      <th></th>\n",
       "    </tr>\n",
       "  </thead>\n",
       "  <tbody>\n",
       "    <tr>\n",
       "      <th>1929</th>\n",
       "      <td>0</td>\n",
       "      <td>0</td>\n",
       "    </tr>\n",
       "    <tr>\n",
       "      <th>1930</th>\n",
       "      <td>0</td>\n",
       "      <td>0</td>\n",
       "    </tr>\n",
       "    <tr>\n",
       "      <th>1931</th>\n",
       "      <td>0</td>\n",
       "      <td>0</td>\n",
       "    </tr>\n",
       "    <tr>\n",
       "      <th>1932</th>\n",
       "      <td>1</td>\n",
       "      <td>1</td>\n",
       "    </tr>\n",
       "    <tr>\n",
       "      <th>1933</th>\n",
       "      <td>0</td>\n",
       "      <td>1</td>\n",
       "    </tr>\n",
       "    <tr>\n",
       "      <th>...</th>\n",
       "      <td>...</td>\n",
       "      <td>...</td>\n",
       "    </tr>\n",
       "    <tr>\n",
       "      <th>2016</th>\n",
       "      <td>766</td>\n",
       "      <td>18471</td>\n",
       "    </tr>\n",
       "    <tr>\n",
       "      <th>2017</th>\n",
       "      <td>377</td>\n",
       "      <td>18848</td>\n",
       "    </tr>\n",
       "    <tr>\n",
       "      <th>2018</th>\n",
       "      <td>812</td>\n",
       "      <td>19660</td>\n",
       "    </tr>\n",
       "    <tr>\n",
       "      <th>2019</th>\n",
       "      <td>264</td>\n",
       "      <td>19924</td>\n",
       "    </tr>\n",
       "    <tr>\n",
       "      <th>2020</th>\n",
       "      <td>56</td>\n",
       "      <td>19980</td>\n",
       "    </tr>\n",
       "  </tbody>\n",
       "</table>\n",
       "<p>92 rows × 2 columns</p>\n",
       "</div>"
      ],
      "text/plain": [
       "              NumWorks    sum\n",
       "YearAcquired                 \n",
       "1929                 0      0\n",
       "1930                 0      0\n",
       "1931                 0      0\n",
       "1932                 1      1\n",
       "1933                 0      1\n",
       "...                ...    ...\n",
       "2016               766  18471\n",
       "2017               377  18848\n",
       "2018               812  19660\n",
       "2019               264  19924\n",
       "2020                56  19980\n",
       "\n",
       "[92 rows x 2 columns]"
      ]
     },
     "execution_count": 35,
     "metadata": {},
     "output_type": "execute_result"
    }
   ],
   "source": [
    "# Get list of indices\n",
    "idx = list(cumulative_fem.index)\n",
    "# Iterate through years 1929-2020\n",
    "for i in range(1929,2021):\n",
    "    if i not in idx:\n",
    "        # If a year is missing, we add an entry with a value of 0\n",
    "        cumulative_fem.loc[i] = {'NumWorks': 0}\n",
    "# Sort the YearAcquired index\n",
    "cumulative_fem = cumulative_fem.sort_index()\n",
    "# Add a new field for the cumulative sum\n",
    "cumulative_fem['sum'] = cumulative_fem.NumWorks.cumsum()\n",
    "cumulative_fem"
   ]
  },
  {
   "cell_type": "markdown",
   "metadata": {},
   "source": [
    "Now we can use matplotlib and the seaborn scatterplot function to create a scatter plot of year vs the cumulative number of works in the MoMA's collection for both genders."
   ]
  },
  {
   "cell_type": "code",
   "execution_count": 36,
   "metadata": {},
   "outputs": [
    {
     "data": {
      "image/png": "[encoded data removed]",
      "text/plain": [
       "<Figure size 432x288 with 1 Axes>"
      ]
     },
     "metadata": {
      "needs_background": "light"
     },
     "output_type": "display_data"
    }
   ],
   "source": [
    "# Scatter plot of cumulative number of works in the collection by male artists\n",
    "ax = sns.scatterplot(data=cumulative_male, x='YearAcquired', y='sum')\n",
    "plt.title('Cumulative Number of Male Works in Collection')\n",
    "plt.xlabel('Year')\n",
    "plt.ylabel('Number of Works')\n",
    "plt.show()"
   ]
  },
  {
   "cell_type": "code",
   "execution_count": 37,
   "metadata": {},
   "outputs": [
    {
     "data": {
      "image/png": "[encoded data removed]",
      "text/plain": [
       "<Figure size 432x288 with 1 Axes>"
      ]
     },
     "metadata": {
      "needs_background": "light"
     },
     "output_type": "display_data"
    }
   ],
   "source": [
    "# Scatter plot of cumulative number of works in the collection by female artists\n",
    "ax = sns.scatterplot(data=cumulative_fem, x='YearAcquired', y='sum')\n",
    "plt.title('Cumulative Number of Female Works in Collection')\n",
    "plt.xlabel('Year')\n",
    "plt.ylabel('Number of Works')\n",
    "plt.show()"
   ]
  },
  {
   "cell_type": "markdown",
   "metadata": {},
   "source": [
    "The y-axis can be deceiving! The male and female works are on drastically different scales. Let's plot both data sets on the same axis. To do this, we will concatenate the cumulative male and female data frames. In doing so, a **dataset** field will be added that indicates whether the entry is part of the male or female data set."
   ]
  },
  {
   "cell_type": "code",
   "execution_count": 38,
   "metadata": {},
   "outputs": [
    {
     "data": {
      "text/html": [
       "<div>\n",
       "<style scoped>\n",
       "    .dataframe tbody tr th:only-of-type {\n",
       "        vertical-align: middle;\n",
       "    }\n",
       "\n",
       "    .dataframe tbody tr th {\n",
       "        vertical-align: top;\n",
       "    }\n",
       "\n",
       "    .dataframe thead th {\n",
       "        text-align: right;\n",
       "    }\n",
       "</style>\n",
       "<table border=\"1\" class=\"dataframe\">\n",
       "  <thead>\n",
       "    <tr style=\"text-align: right;\">\n",
       "      <th></th>\n",
       "      <th>NumWorks</th>\n",
       "      <th>sum</th>\n",
       "      <th>dataset</th>\n",
       "    </tr>\n",
       "    <tr>\n",
       "      <th>YearAcquired</th>\n",
       "      <th></th>\n",
       "      <th></th>\n",
       "      <th></th>\n",
       "    </tr>\n",
       "  </thead>\n",
       "  <tbody>\n",
       "    <tr>\n",
       "      <th>1929</th>\n",
       "      <td>0</td>\n",
       "      <td>0</td>\n",
       "      <td>Female</td>\n",
       "    </tr>\n",
       "    <tr>\n",
       "      <th>1930</th>\n",
       "      <td>0</td>\n",
       "      <td>0</td>\n",
       "      <td>Female</td>\n",
       "    </tr>\n",
       "    <tr>\n",
       "      <th>1931</th>\n",
       "      <td>0</td>\n",
       "      <td>0</td>\n",
       "      <td>Female</td>\n",
       "    </tr>\n",
       "    <tr>\n",
       "      <th>1932</th>\n",
       "      <td>1</td>\n",
       "      <td>1</td>\n",
       "      <td>Female</td>\n",
       "    </tr>\n",
       "    <tr>\n",
       "      <th>1933</th>\n",
       "      <td>0</td>\n",
       "      <td>1</td>\n",
       "      <td>Female</td>\n",
       "    </tr>\n",
       "    <tr>\n",
       "      <th>...</th>\n",
       "      <td>...</td>\n",
       "      <td>...</td>\n",
       "      <td>...</td>\n",
       "    </tr>\n",
       "    <tr>\n",
       "      <th>2016</th>\n",
       "      <td>1255</td>\n",
       "      <td>110700</td>\n",
       "      <td>Male</td>\n",
       "    </tr>\n",
       "    <tr>\n",
       "      <th>2017</th>\n",
       "      <td>834</td>\n",
       "      <td>111534</td>\n",
       "      <td>Male</td>\n",
       "    </tr>\n",
       "    <tr>\n",
       "      <th>2018</th>\n",
       "      <td>1539</td>\n",
       "      <td>113073</td>\n",
       "      <td>Male</td>\n",
       "    </tr>\n",
       "    <tr>\n",
       "      <th>2019</th>\n",
       "      <td>1174</td>\n",
       "      <td>114247</td>\n",
       "      <td>Male</td>\n",
       "    </tr>\n",
       "    <tr>\n",
       "      <th>2020</th>\n",
       "      <td>165</td>\n",
       "      <td>114412</td>\n",
       "      <td>Male</td>\n",
       "    </tr>\n",
       "  </tbody>\n",
       "</table>\n",
       "<p>184 rows × 3 columns</p>\n",
       "</div>"
      ],
      "text/plain": [
       "              NumWorks     sum dataset\n",
       "YearAcquired                          \n",
       "1929                 0       0  Female\n",
       "1930                 0       0  Female\n",
       "1931                 0       0  Female\n",
       "1932                 1       1  Female\n",
       "1933                 0       1  Female\n",
       "...                ...     ...     ...\n",
       "2016              1255  110700    Male\n",
       "2017               834  111534    Male\n",
       "2018              1539  113073    Male\n",
       "2019              1174  114247    Male\n",
       "2020               165  114412    Male\n",
       "\n",
       "[184 rows x 3 columns]"
      ]
     },
     "execution_count": 38,
     "metadata": {},
     "output_type": "execute_result"
    }
   ],
   "source": [
    "# Concatenate cumulative male and female data frames\n",
    "concat = pd.concat([cumulative_fem.assign(dataset='Female'), cumulative_male.assign(dataset='Male')])\n",
    "concat"
   ]
  },
  {
   "cell_type": "markdown",
   "metadata": {},
   "source": [
    "Now we can use matplotlib and the seaborn scatterplot function to create a scatter plot of year vs the cumulative number of works in the MoMA's collection for both genders on the same axis. We will set **hue='dataset'** so that the male and female data points have different colors."
   ]
  },
  {
   "cell_type": "code",
   "execution_count": 39,
   "metadata": {},
   "outputs": [
    {
     "data": {
      "image/png": "[encoded data removed]",
      "text/plain": [
       "<Figure size 432x288 with 1 Axes>"
      ]
     },
     "metadata": {
      "needs_background": "light"
     },
     "output_type": "display_data"
    }
   ],
   "source": [
    "# Scatter plot of cumulative number of works in the collection by Gender\n",
    "ax = sns.scatterplot(data=concat, x='YearAcquired', y='sum', hue='dataset')\n",
    "plt.title('Cumulative Number of Works in Collection')\n",
    "plt.xlabel('Year')\n",
    "plt.ylabel('Number of Works')\n",
    "plt.show()"
   ]
  },
  {
   "cell_type": "markdown",
   "metadata": {},
   "source": [
    "## Analysis"
   ]
  },
  {
   "cell_type": "markdown",
   "metadata": {},
   "source": [
    "It's now time to apply some machine learning to our data set. For this tutorial we will utilize simple linear regression, which is a supervised machine learning algorithm that finds the parameters of the linear relationship between two variables. You can learn more about linear regression [here](https://ml-cheatsheet.readthedocs.io/en/latest/linear_regression.html#:~:text=Linear%20Regression%20is%20a%20supervised,Simple%20regression). For this analysis, we are interested in determining the relationship between the year of acquisition and the cumulative number of works in the MoMA's collection. We will do this separately for both male and female artists and in both cases we will have the following hypotheses:\n",
    "\n",
    "*H0 (null): There is not a linear relationship between year and total number of works by \\[Male/Female\\] artists.*\n",
    "\n",
    "*H1 (alternative): There is a linear relationship between year and total number of works by \\[Male/Female\\] artists.*\n",
    "\n",
    "Let's start with Male artists. We will select the rows from our cumulative **concat** data frame that represent **Male** artists and reset the index."
   ]
  },
  {
   "cell_type": "code",
   "execution_count": 40,
   "metadata": {},
   "outputs": [
    {
     "data": {
      "text/html": [
       "<div>\n",
       "<style scoped>\n",
       "    .dataframe tbody tr th:only-of-type {\n",
       "        vertical-align: middle;\n",
       "    }\n",
       "\n",
       "    .dataframe tbody tr th {\n",
       "        vertical-align: top;\n",
       "    }\n",
       "\n",
       "    .dataframe thead th {\n",
       "        text-align: right;\n",
       "    }\n",
       "</style>\n",
       "<table border=\"1\" class=\"dataframe\">\n",
       "  <thead>\n",
       "    <tr style=\"text-align: right;\">\n",
       "      <th></th>\n",
       "      <th>YearAcquired</th>\n",
       "      <th>NumWorks</th>\n",
       "      <th>sum</th>\n",
       "      <th>dataset</th>\n",
       "    </tr>\n",
       "  </thead>\n",
       "  <tbody>\n",
       "    <tr>\n",
       "      <th>0</th>\n",
       "      <td>1929</td>\n",
       "      <td>9</td>\n",
       "      <td>9</td>\n",
       "      <td>Male</td>\n",
       "    </tr>\n",
       "    <tr>\n",
       "      <th>1</th>\n",
       "      <td>1930</td>\n",
       "      <td>7</td>\n",
       "      <td>16</td>\n",
       "      <td>Male</td>\n",
       "    </tr>\n",
       "    <tr>\n",
       "      <th>2</th>\n",
       "      <td>1931</td>\n",
       "      <td>3</td>\n",
       "      <td>19</td>\n",
       "      <td>Male</td>\n",
       "    </tr>\n",
       "    <tr>\n",
       "      <th>3</th>\n",
       "      <td>1932</td>\n",
       "      <td>18</td>\n",
       "      <td>37</td>\n",
       "      <td>Male</td>\n",
       "    </tr>\n",
       "    <tr>\n",
       "      <th>4</th>\n",
       "      <td>1933</td>\n",
       "      <td>93</td>\n",
       "      <td>130</td>\n",
       "      <td>Male</td>\n",
       "    </tr>\n",
       "    <tr>\n",
       "      <th>...</th>\n",
       "      <td>...</td>\n",
       "      <td>...</td>\n",
       "      <td>...</td>\n",
       "      <td>...</td>\n",
       "    </tr>\n",
       "    <tr>\n",
       "      <th>87</th>\n",
       "      <td>2016</td>\n",
       "      <td>1255</td>\n",
       "      <td>110700</td>\n",
       "      <td>Male</td>\n",
       "    </tr>\n",
       "    <tr>\n",
       "      <th>88</th>\n",
       "      <td>2017</td>\n",
       "      <td>834</td>\n",
       "      <td>111534</td>\n",
       "      <td>Male</td>\n",
       "    </tr>\n",
       "    <tr>\n",
       "      <th>89</th>\n",
       "      <td>2018</td>\n",
       "      <td>1539</td>\n",
       "      <td>113073</td>\n",
       "      <td>Male</td>\n",
       "    </tr>\n",
       "    <tr>\n",
       "      <th>90</th>\n",
       "      <td>2019</td>\n",
       "      <td>1174</td>\n",
       "      <td>114247</td>\n",
       "      <td>Male</td>\n",
       "    </tr>\n",
       "    <tr>\n",
       "      <th>91</th>\n",
       "      <td>2020</td>\n",
       "      <td>165</td>\n",
       "      <td>114412</td>\n",
       "      <td>Male</td>\n",
       "    </tr>\n",
       "  </tbody>\n",
       "</table>\n",
       "<p>92 rows × 4 columns</p>\n",
       "</div>"
      ],
      "text/plain": [
       "    YearAcquired  NumWorks     sum dataset\n",
       "0           1929         9       9    Male\n",
       "1           1930         7      16    Male\n",
       "2           1931         3      19    Male\n",
       "3           1932        18      37    Male\n",
       "4           1933        93     130    Male\n",
       "..           ...       ...     ...     ...\n",
       "87          2016      1255  110700    Male\n",
       "88          2017       834  111534    Male\n",
       "89          2018      1539  113073    Male\n",
       "90          2019      1174  114247    Male\n",
       "91          2020       165  114412    Male\n",
       "\n",
       "[92 rows x 4 columns]"
      ]
     },
     "execution_count": 40,
     "metadata": {},
     "output_type": "execute_result"
    }
   ],
   "source": [
    "# Get cumulative male data\n",
    "male_data = concat[concat['dataset'] == 'Male']\n",
    "# Reset the index\n",
    "male_data.reset_index(inplace=True)\n",
    "male_data"
   ]
  },
  {
   "cell_type": "markdown",
   "metadata": {},
   "source": [
    "Now we will pass this data into the statsmodels ordinary least squares function to compute the parameters for a linear model. We will also pass in the formula **sum ~ YearAcquired** to tell the function that we want to be able to predict the number of works in the collection (by male artists) based on the year. Then we call the **summary** methond on the results to view the computed parameters and other model statistics."
   ]
  },
  {
   "cell_type": "code",
   "execution_count": 41,
   "metadata": {},
   "outputs": [
    {
     "name": "stdout",
     "output_type": "stream",
     "text": [
      "                            OLS Regression Results                            \n",
      "==============================================================================\n",
      "Dep. Variable:                    sum   R-squared:                       0.971\n",
      "Model:                            OLS   Adj. R-squared:                  0.971\n",
      "Method:                 Least Squares   F-statistic:                     3039.\n",
      "Date:                Fri, 04 Dec 2020   Prob (F-statistic):           3.80e-71\n",
      "Time:                        17:46:22   Log-Likelihood:                -932.86\n",
      "No. Observations:                  92   AIC:                             1870.\n",
      "Df Residuals:                      90   BIC:                             1875.\n",
      "Df Model:                           1                                         \n",
      "Covariance Type:            nonrobust                                         \n",
      "================================================================================\n",
      "                   coef    std err          t      P>|t|      [0.025      0.975]\n",
      "--------------------------------------------------------------------------------\n",
      "Intercept    -2.601e+06    4.8e+04    -54.150      0.000    -2.7e+06   -2.51e+06\n",
      "YearAcquired  1341.0780     24.328     55.125      0.000    1292.746    1389.410\n",
      "==============================================================================\n",
      "Omnibus:                        0.639   Durbin-Watson:                   0.072\n",
      "Prob(Omnibus):                  0.726   Jarque-Bera (JB):                0.665\n",
      "Skew:                          -0.192   Prob(JB):                        0.717\n",
      "Kurtosis:                       2.839   Cond. No.                     1.47e+05\n",
      "==============================================================================\n",
      "\n",
      "Notes:\n",
      "[1] Standard Errors assume that the covariance matrix of the errors is correctly specified.\n",
      "[2] The condition number is large, 1.47e+05. This might indicate that there are\n",
      "strong multicollinearity or other numerical problems.\n"
     ]
    }
   ],
   "source": [
    "# Do linear regression\n",
    "male_reg = smf.ols('sum ~ YearAcquired', data=male_data).fit()\n",
    "# View the results\n",
    "print(male_reg.summary())"
   ]
  },
  {
   "cell_type": "markdown",
   "metadata": {},
   "source": [
    "Then we do the same thing for female artists."
   ]
  },
  {
   "cell_type": "code",
   "execution_count": 42,
   "metadata": {},
   "outputs": [],
   "source": [
    "# Get cumulative female data\n",
    "fem_data = concat[concat['dataset'] == 'Female']\n",
    "# Reset the index\n",
    "fem_data.reset_index(inplace=True)"
   ]
  },
  {
   "cell_type": "code",
   "execution_count": 43,
   "metadata": {},
   "outputs": [
    {
     "name": "stdout",
     "output_type": "stream",
     "text": [
      "                            OLS Regression Results                            \n",
      "==============================================================================\n",
      "Dep. Variable:                    sum   R-squared:                       0.805\n",
      "Model:                            OLS   Adj. R-squared:                  0.803\n",
      "Method:                 Least Squares   F-statistic:                     371.9\n",
      "Date:                Fri, 04 Dec 2020   Prob (F-statistic):           1.02e-33\n",
      "Time:                        17:46:22   Log-Likelihood:                -850.16\n",
      "No. Observations:                  92   AIC:                             1704.\n",
      "Df Residuals:                      90   BIC:                             1709.\n",
      "Df Model:                           1                                         \n",
      "Covariance Type:            nonrobust                                         \n",
      "================================================================================\n",
      "                   coef    std err          t      P>|t|      [0.025      0.975]\n",
      "--------------------------------------------------------------------------------\n",
      "Intercept     -3.72e+05   1.96e+04    -19.024      0.000   -4.11e+05   -3.33e+05\n",
      "YearAcquired   190.9524      9.902     19.284      0.000     171.280     210.625\n",
      "==============================================================================\n",
      "Omnibus:                       10.794   Durbin-Watson:                   0.014\n",
      "Prob(Omnibus):                  0.005   Jarque-Bera (JB):               12.120\n",
      "Skew:                           0.884   Prob(JB):                      0.00233\n",
      "Kurtosis:                       2.810   Cond. No.                     1.47e+05\n",
      "==============================================================================\n",
      "\n",
      "Notes:\n",
      "[1] Standard Errors assume that the covariance matrix of the errors is correctly specified.\n",
      "[2] The condition number is large, 1.47e+05. This might indicate that there are\n",
      "strong multicollinearity or other numerical problems.\n"
     ]
    }
   ],
   "source": [
    "# Do linear regression \n",
    "fem_reg = smf.ols('sum ~ YearAcquired', data=fem_data).fit()\n",
    "# View the results\n",
    "print(fem_reg.summary())"
   ]
  },
  {
   "cell_type": "markdown",
   "metadata": {},
   "source": [
    "In order for us to reject our null hypotheses, we need the p-values from our models to be less than 0.05. We can view the p-values from our models individually by calling the **pvalues** attribute on our model results."
   ]
  },
  {
   "cell_type": "code",
   "execution_count": 53,
   "metadata": {},
   "outputs": [
    {
     "name": "stdout",
     "output_type": "stream",
     "text": [
      "Male Artists Results: \n",
      "Intercept       1.804192e-70\n",
      "YearAcquired    3.795372e-71\n",
      "dtype: float64\n",
      "\n",
      "Female Artists Results: \n",
      "Intercept       2.719715e-33\n",
      "YearAcquired    1.017787e-33\n",
      "dtype: float64\n"
     ]
    }
   ],
   "source": [
    "print('Male Artists Results: ')\n",
    "print(male_reg.pvalues, end='\\n\\n')\n",
    "print('Female Artists Results: ')\n",
    "print(fem_reg.pvalues)"
   ]
  },
  {
   "cell_type": "markdown",
   "metadata": {},
   "source": [
    "All of the p-values are less than the 0.05 threshold value. Thus, we can reject both of our null hypotheses: <br>\n",
    "*H0: There is not a linear relationship between year and total number of works by male artists.* <br>\n",
    "*H0: There is not a linear relationship between year and total number of works by female artists.*\n",
    "\n",
    "And we accept our alternative hypotheses: <br>\n",
    "*H1: There is a linear relationship between year and total number of works by male artists.* <br>\n",
    "*H1: There is a linear relationship between year and total number of works by female artists.*\n",
    "\n",
    "Let's plot the regression lines overtop of the scatterplots for male and female artists. We will do this with the statsmodels **abline_plot** which plots a line given given an intercept and slope (i.e. our linear regression results). "
   ]
  },
  {
   "cell_type": "code",
   "execution_count": 56,
   "metadata": {},
   "outputs": [
    {
     "data": {
      "image/png": "[encoded data removed]",
      "text/plain": [
       "<Figure size 432x288 with 1 Axes>"
      ]
     },
     "metadata": {
      "needs_background": "light"
     },
     "output_type": "display_data"
    }
   ],
   "source": [
    "# Scatter plot of cumulative number of works in the collection by Gender\n",
    "ax = sns.scatterplot(data=concat, x='YearAcquired', y='sum', hue='dataset')\n",
    "plt.title('Cumulative Number of Works in Collection')\n",
    "plt.xlabel('Year')\n",
    "plt.ylabel('Number of Works')\n",
    "# Add linear regression lines\n",
    "abline_plot(model_results=male_reg, ax=ax, c='r')\n",
    "abline_plot(model_results=fem_reg, ax=ax, c='r')\n",
    "plt.show()"
   ]
  },
  {
   "cell_type": "markdown",
   "metadata": {},
   "source": [
    "Let's consider a hypothetical situation. If the MoMA was to only acquire works by female artists (similar to what the [Baltimore Museum of Art did in 2020](https://www.baltimoresun.com/entertainment/arts/bs-fe-bma-female-artists-2020-20191115-33s5hjjnqfghzhmwkt7dqbargq-story.html)), how long would it take for the number of works by male and female artists to be the same? We will assume that the rate of acquisition for female artists will continue at its current rate."
   ]
  },
  {
   "cell_type": "code",
   "execution_count": 62,
   "metadata": {},
   "outputs": [
    {
     "data": {
      "text/html": [
       "<div>\n",
       "<style scoped>\n",
       "    .dataframe tbody tr th:only-of-type {\n",
       "        vertical-align: middle;\n",
       "    }\n",
       "\n",
       "    .dataframe tbody tr th {\n",
       "        vertical-align: top;\n",
       "    }\n",
       "\n",
       "    .dataframe thead th {\n",
       "        text-align: right;\n",
       "    }\n",
       "</style>\n",
       "<table border=\"1\" class=\"dataframe\">\n",
       "  <thead>\n",
       "    <tr style=\"text-align: right;\">\n",
       "      <th></th>\n",
       "      <th>YearAcquired</th>\n",
       "      <th>NumWorks</th>\n",
       "      <th>sum</th>\n",
       "      <th>dataset</th>\n",
       "    </tr>\n",
       "  </thead>\n",
       "  <tbody>\n",
       "    <tr>\n",
       "      <th>91</th>\n",
       "      <td>2020</td>\n",
       "      <td>56</td>\n",
       "      <td>19980</td>\n",
       "      <td>Female</td>\n",
       "    </tr>\n",
       "  </tbody>\n",
       "</table>\n",
       "</div>"
      ],
      "text/plain": [
       "    YearAcquired  NumWorks    sum dataset\n",
       "91          2020        56  19980  Female"
      ]
     },
     "execution_count": 62,
     "metadata": {},
     "output_type": "execute_result"
    }
   ],
   "source": [
    "fem_data.tail(1)"
   ]
  },
  {
   "cell_type": "code",
   "execution_count": 63,
   "metadata": {},
   "outputs": [
    {
     "data": {
      "text/html": [
       "<div>\n",
       "<style scoped>\n",
       "    .dataframe tbody tr th:only-of-type {\n",
       "        vertical-align: middle;\n",
       "    }\n",
       "\n",
       "    .dataframe tbody tr th {\n",
       "        vertical-align: top;\n",
       "    }\n",
       "\n",
       "    .dataframe thead th {\n",
       "        text-align: right;\n",
       "    }\n",
       "</style>\n",
       "<table border=\"1\" class=\"dataframe\">\n",
       "  <thead>\n",
       "    <tr style=\"text-align: right;\">\n",
       "      <th></th>\n",
       "      <th>YearAcquired</th>\n",
       "      <th>NumWorks</th>\n",
       "      <th>sum</th>\n",
       "      <th>dataset</th>\n",
       "    </tr>\n",
       "  </thead>\n",
       "  <tbody>\n",
       "    <tr>\n",
       "      <th>91</th>\n",
       "      <td>2020</td>\n",
       "      <td>165</td>\n",
       "      <td>114412</td>\n",
       "      <td>Male</td>\n",
       "    </tr>\n",
       "  </tbody>\n",
       "</table>\n",
       "</div>"
      ],
      "text/plain": [
       "    YearAcquired  NumWorks     sum dataset\n",
       "91          2020       165  114412    Male"
      ]
     },
     "execution_count": 63,
     "metadata": {},
     "output_type": "execute_result"
    }
   ],
   "source": [
    "male_data.tail(1)"
   ]
  },
  {
   "cell_type": "code",
   "execution_count": 59,
   "metadata": {},
   "outputs": [
    {
     "data": {
      "text/plain": [
       "Intercept      -371989.448646\n",
       "YearAcquired       190.952422\n",
       "dtype: float64"
      ]
     },
     "execution_count": 59,
     "metadata": {},
     "output_type": "execute_result"
    }
   ],
   "source": [
    "fem_reg.params"
   ]
  },
  {
   "cell_type": "markdown",
   "metadata": {},
   "source": [
    "According to the data, there 114412 works by male artists as of 2020. We can set up an equation using the values from our female artist linear regression.\n",
    "\n",
    "114412 = -371989.448646 + 190.952422 * year\n",
    "\n",
    "Solving this equation yields: <br>\n",
    "114412 + 371989.448646 = 190.952422 * year <br>\n",
    "(114412 + 371989.448646) / 190.952422 = year <br>\n",
    "**2547 ≈ year**\n",
    "\n",
    "This means that at their current rate (as per our linear model), **it would take 527 more years for female artists to have as much representation in the MoMA's collection as male artists**. And this is **assuming that acquisition of works by male artists is paused indefinitely.** "
   ]
  },
  {
   "cell_type": "markdown",
   "metadata": {},
   "source": [
    "## Conclusion\n",
    "In the journey to change the narritive of there being no \"great\" female artists, only half the battle has been accomplished. There are more female artists than ever before but this diversity is still not reflected in the artistic institutions that shape how the general public perceives art. The presence of linear trends in acquisition suggests that there has not been a significant change in the MoMA's purchasing patterns since 1929. In other words, the rates (i.e. artworks per year) at which the MoMA has been collecting pieces by male and female artists have remained relatively constant since the museum first opened. If the museum had truly sought to diversify their collection, we would expect to see a non-linear trend in the growth of their collection of works by female artists. Since this is not the case, it is currently impossible for female artists to catch up to their male counterparts if both are to continue at their current rates. Obviously it is not feasible for the MoMA to stop collecting works by male artists for the next 527 years, but this hypothetical time frame is something of an alarming statistic. It took the MoMA only 91 years to amass a 114,412 works by male artists, so it is concerning that it would take 527 more years for the MoMA to acquire the 94,432 works by female artsits that they'd need to reach this same amount. \n",
    "\n",
    "The analysis conducted here certainly leaves art museums like the MoMA with plenty to think about in terms of their future acquisitions, as it is by no means a simple problem to overcome. Such concrete insights could only have been accomplished through the examination of the collection data, which highlights the importance of data science in less conventional fields such as art history. As for the followers of this tutorial, hopefully you have learned something new not just about the art world but about data science techniques as well. For those of you interested in learning more about the intersection between data science and art, check out the projects [here](https://github.com/vibertthio/awesome-machine-learning-art)."
   ]
  },
  {
   "cell_type": "code",
   "execution_count": null,
   "metadata": {},
   "outputs": [],
   "source": []
  }
 ],
 "metadata": {
  "kernelspec": {
   "display_name": "Python 3",
   "language": "python",
   "name": "python3"
  },
  "language_info": {
   "codemirror_mode": {
    "name": "ipython",
    "version": 3
   },
   "file_extension": ".py",
   "mimetype": "text/x-python",
   "name": "python",
   "nbconvert_exporter": "python",
   "pygments_lexer": "ipython3",
   "version": "3.8.5"
  }
 },
 "nbformat": 4,
 "nbformat_minor": 4
}
